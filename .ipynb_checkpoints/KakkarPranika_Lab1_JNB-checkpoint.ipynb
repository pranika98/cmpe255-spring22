{
 "cells": [
  {
   "cell_type": "code",
   "execution_count": 1,
   "metadata": {},
   "outputs": [
    {
     "data": {
      "text/plain": [
       "'\\nCMPE255 LAB 1\\nPranika Kakkar\\n015569983\\n'"
      ]
     },
     "execution_count": 1,
     "metadata": {},
     "output_type": "execute_result"
    }
   ],
   "source": [
    "'''\n",
    "CMPE255 LAB 1\n",
    "Pranika Kakkar\n",
    "015569983\n",
    "'''"
   ]
  },
  {
   "cell_type": "code",
   "execution_count": 2,
   "metadata": {},
   "outputs": [],
   "source": [
    "# importing packages\n",
    "import pandas as pd\n",
    "import numpy as np\n",
    "import matplotlib.pyplot as plt"
   ]
  },
  {
   "cell_type": "code",
   "execution_count": 10,
   "metadata": {},
   "outputs": [],
   "source": [
    "class Solution:\n",
    "    def __init__(self) -> None:\n",
    "        # TODO: \n",
    "        # Load data from data/chipotle.tsv file using Pandas library and \n",
    "        # assign the dataset to the 'chipo' variable.\n",
    "        file = 'data/chipotle.tsv'\n",
    "        self.chipo = pd.read_csv('data/chipotle.tsv', sep='\\t')\n",
    "    \n",
    "    def top_x(self, count) -> None:\n",
    "        # TODO\n",
    "        # Top x number of entries from the dataset and display as markdown format.\n",
    "        topx = self.chipo.head(count)\n",
    "        print(topx.to_markdown())\n",
    "        \n",
    "    def count(self) -> int:\n",
    "        # TODO\n",
    "        # The number of observations/entries in the dataset.\n",
    "        shape = self.chipo.shape\n",
    "        return (shape[0])\n",
    "    \n",
    "    def info(self) -> None:\n",
    "        # TODO\n",
    "        # print data info.\n",
    "        print(self.chipo.info())\n",
    "    \n",
    "    def num_column(self) -> int:\n",
    "        # TODO return the number of columns in the dataset\n",
    "        shape = self.chipo.shape\n",
    "        return (shape[1])\n",
    "    \n",
    "    def print_columns(self) -> None:\n",
    "        # TODO Print the name of all the columns.\n",
    "        print(self.chipo.columns.values.tolist())\n",
    "    \n",
    "    def most_ordered_item(self):\n",
    "        # TODO\n",
    "        c = self.chipo.groupby('item_name')\n",
    "        c = c.sum().sort_values(['quantity'], ascending=False).reset_index()\n",
    "        c = c.head(1).to_dict()\n",
    "        order_id = c[\"order_id\"][0]\n",
    "        quantity = c[\"quantity\"][0]\n",
    "        item_name = c[\"item_name\"][0]\n",
    "        return item_name, order_id, quantity\n",
    "\n",
    "    def total_item_orders(self) -> int:\n",
    "       # TODO How many items were orderd in total?\n",
    "       return (self.chipo['quantity'].sum())\n",
    "   \n",
    "    def total_sales(self) -> float:\n",
    "        # TODO \n",
    "        # 1. Create a lambda function to change all item prices to float.\n",
    "        # 2. Calculate total sales.\n",
    "        total_sales_per_order = self.chipo['item_price'].apply(lambda x:float(x.replace('$', '')))\n",
    "        value = np.multiply(total_sales_per_order, self.chipo['quantity']).sum()\n",
    "        return value\n",
    "    \n",
    "    def num_orders(self) -> int:\n",
    "        # TODO\n",
    "        # How many orders were made in the dataset?\n",
    "        return (chipo['order_id'].nunique())\n",
    "    \n",
    "    def average_sales_amount_per_order(self) -> float:\n",
    "        # TODO\n",
    "        total_orders = Solution.num_orders(self)\n",
    "        total_sales = Solution.total_sales(self)\n",
    "        return round(total_sales/total_orders, 2)\n",
    "        \n",
    "    def num_different_items_sold(self) -> int:\n",
    "        # TODO\n",
    "        # How many different items are sold?\n",
    "        return (chipo['item_name'].nunique())\n",
    "    \n",
    "    def plot_histogram_top_x_popular_items(self, x:int) -> None:\n",
    "        from collections import Counter\n",
    "        letter_counter = Counter(self.chipo.item_name)\n",
    "        top5_df = pd.DataFrame.from_dict(letter_counter, orient='index')\n",
    "        top5_df = top5_df[0].sort_values(ascending = False)[:x]\n",
    "        top5_df.plot(kind='bar')\n",
    "        plt.xlabel('Item_name ')\n",
    "        plt.ylabel('No of Times Item was Ordered')\n",
    "        plt.title('Five most ordered item names')\n",
    "        plt.show()\n",
    "        \n",
    "    def scatter_plot_num_items_per_order_price(self) -> None:\n",
    "        # TODO\n",
    "        # 1. create a list of prices by removing dollar sign and trailing space.\n",
    "        # 2. groupby the orders and sum it.\n",
    "        # 3. create a scatter plot:\n",
    "        #       x: orders' item price\n",
    "        #       y: orders' quantity\n",
    "        #       s: 50\n",
    "        #       c: blue\n",
    "        # 4. set the title and labels.\n",
    "        #       title: Numer of items per order price\n",
    "        #       x: Order Price\n",
    "        #       y: Num Items\n",
    "        # create a list of prices\n",
    "        chipo[\"item_price\"] = [float(value[1:-1]) for value in chipo[\"item_price\"]] # strip the dollar sign and trailing space\n",
    "        order_price = chipo.groupby('order_id').sum()\n",
    "        plt.scatter(x = order_price.item_price, y = order_price.quantity, s = 50, c = 'blue')\n",
    "        plt.xlabel('Order Price')\n",
    "        plt.ylabel('Num Items')\n",
    "        plt.title('Numer of items per order price')\n",
    "        plt.ylim(0)"
   ]
  },
  {
   "cell_type": "code",
   "execution_count": 11,
   "metadata": {},
   "outputs": [
    {
     "data": {
      "text/html": [
       "<div>\n",
       "<style scoped>\n",
       "    .dataframe tbody tr th:only-of-type {\n",
       "        vertical-align: middle;\n",
       "    }\n",
       "\n",
       "    .dataframe tbody tr th {\n",
       "        vertical-align: top;\n",
       "    }\n",
       "\n",
       "    .dataframe thead th {\n",
       "        text-align: right;\n",
       "    }\n",
       "</style>\n",
       "<table border=\"1\" class=\"dataframe\">\n",
       "  <thead>\n",
       "    <tr style=\"text-align: right;\">\n",
       "      <th></th>\n",
       "      <th>order_id</th>\n",
       "      <th>quantity</th>\n",
       "      <th>item_name</th>\n",
       "      <th>choice_description</th>\n",
       "      <th>item_price</th>\n",
       "    </tr>\n",
       "  </thead>\n",
       "  <tbody>\n",
       "    <tr>\n",
       "      <th>0</th>\n",
       "      <td>1</td>\n",
       "      <td>1</td>\n",
       "      <td>Chips and Fresh Tomato Salsa</td>\n",
       "      <td>NaN</td>\n",
       "      <td>$2.39</td>\n",
       "    </tr>\n",
       "    <tr>\n",
       "      <th>1</th>\n",
       "      <td>1</td>\n",
       "      <td>1</td>\n",
       "      <td>Izze</td>\n",
       "      <td>[Clementine]</td>\n",
       "      <td>$3.39</td>\n",
       "    </tr>\n",
       "    <tr>\n",
       "      <th>2</th>\n",
       "      <td>1</td>\n",
       "      <td>1</td>\n",
       "      <td>Nantucket Nectar</td>\n",
       "      <td>[Apple]</td>\n",
       "      <td>$3.39</td>\n",
       "    </tr>\n",
       "    <tr>\n",
       "      <th>3</th>\n",
       "      <td>1</td>\n",
       "      <td>1</td>\n",
       "      <td>Chips and Tomatillo-Green Chili Salsa</td>\n",
       "      <td>NaN</td>\n",
       "      <td>$2.39</td>\n",
       "    </tr>\n",
       "    <tr>\n",
       "      <th>4</th>\n",
       "      <td>2</td>\n",
       "      <td>2</td>\n",
       "      <td>Chicken Bowl</td>\n",
       "      <td>[Tomatillo-Red Chili Salsa (Hot), [Black Beans...</td>\n",
       "      <td>$16.98</td>\n",
       "    </tr>\n",
       "  </tbody>\n",
       "</table>\n",
       "</div>"
      ],
      "text/plain": [
       "   order_id  quantity                              item_name  \\\n",
       "0         1         1           Chips and Fresh Tomato Salsa   \n",
       "1         1         1                                   Izze   \n",
       "2         1         1                       Nantucket Nectar   \n",
       "3         1         1  Chips and Tomatillo-Green Chili Salsa   \n",
       "4         2         2                           Chicken Bowl   \n",
       "\n",
       "                                  choice_description item_price  \n",
       "0                                                NaN     $2.39   \n",
       "1                                       [Clementine]     $3.39   \n",
       "2                                            [Apple]     $3.39   \n",
       "3                                                NaN     $2.39   \n",
       "4  [Tomatillo-Red Chili Salsa (Hot), [Black Beans...    $16.98   "
      ]
     },
     "execution_count": 11,
     "metadata": {},
     "output_type": "execute_result"
    }
   ],
   "source": [
    "chipo = pd.read_csv(\"Chipotle.csv\")\n",
    "chipo.head()"
   ]
  },
  {
   "cell_type": "code",
   "execution_count": 12,
   "metadata": {},
   "outputs": [],
   "source": [
    "def test() -> None:\n",
    "    solution = Solution()\n",
    "    solution.top_x(10)\n",
    "    count = solution.count()\n",
    "    print(count)\n",
    "    assert count == 4622\n",
    "    solution.info()\n",
    "    solution.print_columns()\n",
    "    count = solution.num_column()\n",
    "    assert count == 5\n",
    "    item_name, order_id, quantity = solution.most_ordered_item()\n",
    "    assert item_name == 'Chicken Bowl'\n",
    "    assert order_id == 713926\n",
    "    assert quantity == 761\n",
    "    total = solution.total_item_orders()\n",
    "    assert total == 4972\n",
    "    assert 39237.02 == solution.total_sales()\n",
    "    assert 1834 == solution.num_orders()\n",
    "    assert 21.39 == solution.average_sales_amount_per_order()\n",
    "    assert 50 == solution.num_different_items_sold()\n",
    "    solution.plot_histogram_top_x_popular_items(5)\n",
    "    solution.scatter_plot_num_items_per_order_price()   "
   ]
  },
  {
   "cell_type": "code",
   "execution_count": 13,
   "metadata": {
    "scrolled": false
   },
   "outputs": [
    {
     "name": "stdout",
     "output_type": "stream",
     "text": [
      "|    |   order_id |   quantity | item_name                             | choice_description                                                                                                 | item_price   |\n",
      "|---:|-----------:|-----------:|:--------------------------------------|:-------------------------------------------------------------------------------------------------------------------|:-------------|\n",
      "|  0 |          1 |          1 | Chips and Fresh Tomato Salsa          | nan                                                                                                                | $2.39        |\n",
      "|  1 |          1 |          1 | Izze                                  | [Clementine]                                                                                                       | $3.39        |\n",
      "|  2 |          1 |          1 | Nantucket Nectar                      | [Apple]                                                                                                            | $3.39        |\n",
      "|  3 |          1 |          1 | Chips and Tomatillo-Green Chili Salsa | nan                                                                                                                | $2.39        |\n",
      "|  4 |          2 |          2 | Chicken Bowl                          | [Tomatillo-Red Chili Salsa (Hot), [Black Beans, Rice, Cheese, Sour Cream]]                                         | $16.98       |\n",
      "|  5 |          3 |          1 | Chicken Bowl                          | [Fresh Tomato Salsa (Mild), [Rice, Cheese, Sour Cream, Guacamole, Lettuce]]                                        | $10.98       |\n",
      "|  6 |          3 |          1 | Side of Chips                         | nan                                                                                                                | $1.69        |\n",
      "|  7 |          4 |          1 | Steak Burrito                         | [Tomatillo Red Chili Salsa, [Fajita Vegetables, Black Beans, Pinto Beans, Cheese, Sour Cream, Guacamole, Lettuce]] | $11.75       |\n",
      "|  8 |          4 |          1 | Steak Soft Tacos                      | [Tomatillo Green Chili Salsa, [Pinto Beans, Cheese, Sour Cream, Lettuce]]                                          | $9.25        |\n",
      "|  9 |          5 |          1 | Steak Burrito                         | [Fresh Tomato Salsa, [Rice, Black Beans, Pinto Beans, Cheese, Sour Cream, Lettuce]]                                | $9.25        |\n",
      "4622\n",
      "<class 'pandas.core.frame.DataFrame'>\n",
      "RangeIndex: 4622 entries, 0 to 4621\n",
      "Data columns (total 5 columns):\n",
      " #   Column              Non-Null Count  Dtype \n",
      "---  ------              --------------  ----- \n",
      " 0   order_id            4622 non-null   int64 \n",
      " 1   quantity            4622 non-null   int64 \n",
      " 2   item_name           4622 non-null   object\n",
      " 3   choice_description  3376 non-null   object\n",
      " 4   item_price          4622 non-null   object\n",
      "dtypes: int64(2), object(3)\n",
      "memory usage: 180.7+ KB\n",
      "None\n",
      "['order_id', 'quantity', 'item_name', 'choice_description', 'item_price']\n"
     ]
    },
    {
     "data": {
      "image/png": "[encoded data removed]",
      "text/plain": [
       "<Figure size 432x288 with 1 Axes>"
      ]
     },
     "metadata": {
      "needs_background": "light"
     },
     "output_type": "display_data"
    },
    {
     "data": {
      "image/png": "[encoded data removed]",
      "text/plain": [
       "<Figure size 432x288 with 1 Axes>"
      ]
     },
     "metadata": {
      "needs_background": "light"
     },
     "output_type": "display_data"
    }
   ],
   "source": [
    "if __name__ == \"__main__\":\n",
    "     # execute only if run as a script\n",
    "    output =test()"
   ]
  },
  {
   "cell_type": "code",
   "execution_count": null,
   "metadata": {},
   "outputs": [],
   "source": []
  }
 ],
 "metadata": {
  "kernelspec": {
   "display_name": "Python 3",
   "language": "python",
   "name": "python3"
  },
  "language_info": {
   "codemirror_mode": {
    "name": "ipython",
    "version": 3
   },
   "file_extension": ".py",
   "mimetype": "text/x-python",
   "name": "python",
   "nbconvert_exporter": "python",
   "pygments_lexer": "ipython3",
   "version": "3.8.12"
  },
  "latex_envs": {
   "LaTeX_envs_menu_present": true,
   "autoclose": false,
   "autocomplete": true,
   "bibliofile": "biblio.bib",
   "cite_by": "apalike",
   "current_citInitial": 1,
   "eqLabelWithNumbers": true,
   "eqNumInitial": 1,
   "hotkeys": {
    "equation": "Ctrl-E",
    "itemize": "Ctrl-I"
   },
   "labels_anchors": false,
   "latex_user_defs": false,
   "report_style_numbering": false,
   "user_envs_cfg": false
  },
  "toc": {
   "base_numbering": 1,
   "nav_menu": {},
   "number_sections": true,
   "sideBar": true,
   "skip_h1_title": false,
   "title_cell": "Table of Contents",
   "title_sidebar": "Contents",
   "toc_cell": false,
   "toc_position": {},
   "toc_section_display": true,
   "toc_window_display": false
  }
 },
 "nbformat": 4,
 "nbformat_minor": 4
}
