{
 "cells": [
  {
   "cell_type": "code",
   "execution_count": 2,
   "metadata": {},
   "outputs": [],
   "source": [
    "import pandas as pd"
   ]
  },
  {
   "cell_type": "code",
   "execution_count": 3,
   "metadata": {},
   "outputs": [],
   "source": [
    "import numpy as np"
   ]
  },
  {
   "cell_type": "code",
   "execution_count": 4,
   "metadata": {},
   "outputs": [],
   "source": [
    "import matplotlib.pyplot as plt"
   ]
  },
  {
   "cell_type": "code",
   "execution_count": 91,
   "metadata": {},
   "outputs": [],
   "source": [
    "class Solution:\n",
    "    def __init__(self) -> None:\n",
    "        # TODO: \n",
    "        # Load data from data/chipotle.tsv file using Pandas library and \n",
    "        # assign the dataset to the 'chipo' variable.\n",
    "        file = 'data/chipotle.tsv'\n",
    "        self.chipo = pd.read_csv('data/chipotle.tsv', sep='\\t')\n",
    "    \n",
    "    def top_x(self, count) -> None:\n",
    "        # TODO\n",
    "        # Top x number of entries from the dataset and display as markdown format.\n",
    "        topx = self.chipo.head(count)\n",
    "        print(topx.to_markdown())\n",
    "        \n",
    "    def count(self) -> int:\n",
    "        # TODO\n",
    "        # The number of observations/entries in the dataset.\n",
    "        return (self.chipo.shape[0])\n",
    "    \n",
    "    def info(self) -> None:\n",
    "        # TODO\n",
    "        # print data info.\n",
    "        self.chipo.info()\n",
    "        pass\n",
    "    \n",
    "    def num_column(self) -> int:\n",
    "        # TODO return the number of columns in the dataset\n",
    "        return (self.chipo.shape[1])\n",
    "    \n",
    "    def print_columns(self) -> None:\n",
    "        # TODO Print the name of all the columns.\n",
    "        print(self.chipo.columns)\n",
    "    \n",
    "    def most_ordered_item(self):\n",
    "        # TODO\n",
    "        it = self.chipo.groupby('item_name')\n",
    "        it = it.sum().sort_values(['quantity'],ascending=False).reset_index()\n",
    "        it = it.head(1).to_dict()\n",
    "#         print(items)\n",
    "        item_name = it[\"item_name\"][0]\n",
    "        order_id = it[\"order_id\"][0]\n",
    "        quantity = it[\"quantity\"][0]\n",
    "        return item_name, order_id, quantity\n",
    "\n",
    "    def total_item_orders(self) -> int:\n",
    "       # TODO How many items were orderd in total?\n",
    "       return (self.chipo['quantity'].sum())\n",
    "   \n",
    "    def total_sales(self) -> float:\n",
    "        # TODO \n",
    "        # 1. Create a lambda function to change all item prices to float.\n",
    "        # 2. Calculate total sales.\n",
    "#         self.chipo[\"item_price\"] = pd.Series(self.chipo[\"item_price\"].str.replace(\"$\", \"\"), dtype=\"float\")\n",
    "#         self.chipo['item_price'] = self.chipo[\"item_price\"].str.slice(1).astype(float)\n",
    "#         print(self.chipo['item_price'].sum())\n",
    "#         return (self.chipo['item_price'].sum())\n",
    "        func = lambda x: float(x[1:-1])\n",
    "        self.chipo['item_price'] = self.chipo['item_price'].apply(func)\n",
    "        total_sales = (self.chipo['quantity']* self.chipo['item_price']).sum()\n",
    "        return np.round(total_sales,2)\n",
    "   \n",
    "    def num_orders(self) -> int:\n",
    "        # TODO\n",
    "        # How many orders were made in the dataset?\n",
    "        return (self.chipo['order_id'].nunique())\n",
    "    \n",
    "    def average_sales_amount_per_order(self) -> float:\n",
    "#         # TODO\n",
    "        chipo['revenue'] = chipo['quantity'] * chipo['item_price']\n",
    "        order_grouped = chipo.groupby(by=['order_id']).sum()\n",
    "        val = order_grouped.mean()['revenue']\n",
    "        return np.round(val,2)\n",
    "\n",
    "    def num_different_items_sold(self) -> int:\n",
    "        # TODO\n",
    "        # How many different items are sold?\n",
    "        return (self.chipo['item_name'].nunique())\n",
    "    \n",
    "    def plot_histogram_top_x_popular_items(self, x:int) -> None:\n",
    "        from collections import Counter\n",
    "        letter_counter = Counter(self.chipo.item_name)\n",
    "        items = pd.DataFrame.from_dict(letter_counter, orient='index')\n",
    "        items = items[0].sort_values(ascending = False)[:x]\n",
    "        plt.title('Top 5 most ordered item_name')\n",
    "        items.plot(kind='bar')\n",
    "        plt.ylabel('Number of Times Ordered')\n",
    "        plt.xlabel('Item_name')\n",
    "        plt.show()\n",
    "        \n",
    "    def scatter_plot_num_items_per_order_price(self) -> None:\n",
    "#         self.chipo[\"item_price\"] = [float(value[1:-1]) for value in self.chipo[\"item_price\"]]\n",
    "        ord_pr = self.chipo.groupby('order_id').sum()\n",
    "        plt.scatter(x = ord_pr.item_price, y = ord_pr.quantity, s = 50, c = 'DarkBlue')\n",
    "        plt.title('Numer of items per order price')\n",
    "        plt.xlabel('Order Price')\n",
    "        \n",
    "        \n",
    "        plt.ylim(0)\n",
    "        pass"
   ]
  },
  {
   "cell_type": "code",
   "execution_count": 92,
   "metadata": {},
   "outputs": [
    {
     "name": "stdout",
     "output_type": "stream",
     "text": [
      "4622\n",
      "<class 'pandas.core.frame.DataFrame'>\n",
      "RangeIndex: 4622 entries, 0 to 4621\n",
      "Data columns (total 5 columns):\n",
      " #   Column              Non-Null Count  Dtype \n",
      "---  ------              --------------  ----- \n",
      " 0   order_id            4622 non-null   int64 \n",
      " 1   quantity            4622 non-null   int64 \n",
      " 2   item_name           4622 non-null   object\n",
      " 3   choice_description  3376 non-null   object\n",
      " 4   item_price          4622 non-null   object\n",
      "dtypes: int64(2), object(3)\n",
      "memory usage: 180.7+ KB\n"
     ]
    },
    {
     "data": {
      "image/png": "[encoded data removed]",
      "text/plain": [
       "<Figure size 432x288 with 1 Axes>"
      ]
     },
     "metadata": {
      "needs_background": "light"
     },
     "output_type": "display_data"
    },
    {
     "data": {
      "image/png": "[encoded data removed]",
      "text/plain": [
       "<Figure size 432x288 with 1 Axes>"
      ]
     },
     "metadata": {
      "needs_background": "light"
     },
     "output_type": "display_data"
    }
   ],
   "source": [
    "def test() -> None:\n",
    "    solution = Solution()\n",
    "    count = solution.count()\n",
    "    print(count)\n",
    "    assert count == 4622\n",
    "    solution.info()\n",
    "    count = solution.num_column()\n",
    "    assert count == 5\n",
    "\n",
    "    item_name, order_id, quantity = solution.most_ordered_item()\n",
    "    assert item_name == 'Chicken Bowl'\n",
    "    assert order_id == 713926\n",
    "    assert quantity == 761\n",
    "\n",
    "    total = solution.total_item_orders()\n",
    "    assert total == 4972\n",
    "\n",
    "    assert 39237.02 == solution.total_sales()\n",
    "\n",
    "    assert 1834 == solution.num_orders()\n",
    "\n",
    "    assert 21.39 == solution.average_sales_amount_per_order()\n",
    "    assert 50 == solution.num_different_items_sold()\n",
    "    solution.plot_histogram_top_x_popular_items(5)\n",
    "    solution.scatter_plot_num_items_per_order_price()\n",
    "\n",
    "    \n",
    "if __name__ == \"__main__\":\n",
    "    # execute only if run as a script\n",
    "    test()"
   ]
  },
  {
   "cell_type": "code",
   "execution_count": null,
   "metadata": {},
   "outputs": [],
   "source": []
  },
  {
   "cell_type": "code",
   "execution_count": null,
   "metadata": {},
   "outputs": [],
   "source": []
  },
  {
   "cell_type": "code",
   "execution_count": null,
   "metadata": {},
   "outputs": [],
   "source": []
  }
 ],
 "metadata": {
  "kernelspec": {
   "display_name": "Python 3",
   "language": "python",
   "name": "python3"
  },
  "language_info": {
   "codemirror_mode": {
    "name": "ipython",
    "version": 3
   },
   "file_extension": ".py",
   "mimetype": "text/x-python",
   "name": "python",
   "nbconvert_exporter": "python",
   "pygments_lexer": "ipython3",
   "version": "3.8.12"
  },
  "latex_envs": {
   "LaTeX_envs_menu_present": true,
   "autoclose": false,
   "autocomplete": true,
   "bibliofile": "biblio.bib",
   "cite_by": "apalike",
   "current_citInitial": 1,
   "eqLabelWithNumbers": true,
   "eqNumInitial": 1,
   "hotkeys": {
    "equation": "Ctrl-E",
    "itemize": "Ctrl-I"
   },
   "labels_anchors": false,
   "latex_user_defs": false,
   "report_style_numbering": false,
   "user_envs_cfg": false
  },
  "toc": {
   "base_numbering": 1,
   "nav_menu": {},
   "number_sections": true,
   "sideBar": true,
   "skip_h1_title": false,
   "title_cell": "Table of Contents",
   "title_sidebar": "Contents",
   "toc_cell": false,
   "toc_position": {},
   "toc_section_display": true,
   "toc_window_display": false
  }
 },
 "nbformat": 4,
 "nbformat_minor": 5
}
