{
 "cells": [
  {
   "cell_type": "markdown",
   "metadata": {},
   "source": [
    "<!-- You will be using this Level.fyi data to estimate salary for a position as of today or a future timeframe. \n",
    "\n",
    "Build a linear regression model to predict a salary for a given position.\n",
    "Compute RMSE of your model.\n",
    "Predictions:\n",
    "How much you would get if you accept an offer from X company based on number of experiences and location?\n",
    "How much you will be getting after Y years joining to X company? -->"
   ]
  },
  {
   "cell_type": "code",
   "execution_count": 1,
   "metadata": {},
   "outputs": [],
   "source": [
    "#import statements\n",
    "\n",
    "import pandas as pd\n",
    "import numpy as np\n",
    "import matplotlib.pyplot as plt\n",
    "import seaborn as sns\n",
    "import warnings\n",
    "import time\n",
    "warnings.filterwarnings(\"ignore\")"
   ]
  },
  {
   "cell_type": "code",
   "execution_count": 2,
   "metadata": {
    "scrolled": true
   },
   "outputs": [
    {
     "name": "stdout",
     "output_type": "stream",
     "text": [
      "2.8.0\n"
     ]
    }
   ],
   "source": [
    "import tensorflow as tf\n",
    "from tensorflow import keras\n",
    "from tensorflow.keras import layers\n",
    "print(tf.__version__)"
   ]
  },
  {
   "cell_type": "code",
   "execution_count": 3,
   "metadata": {},
   "outputs": [],
   "source": [
    "filepath = \"/Users/pranika/Desktop/SJSU-SEM2/CMPE255/Assignment1/Levels_Fyi_Salary_Data.csv\""
   ]
  },
  {
   "cell_type": "code",
   "execution_count": 4,
   "metadata": {},
   "outputs": [
    {
     "data": {
      "text/html": [
       "<div>\n",
       "<style scoped>\n",
       "    .dataframe tbody tr th:only-of-type {\n",
       "        vertical-align: middle;\n",
       "    }\n",
       "\n",
       "    .dataframe tbody tr th {\n",
       "        vertical-align: top;\n",
       "    }\n",
       "\n",
       "    .dataframe thead th {\n",
       "        text-align: right;\n",
       "    }\n",
       "</style>\n",
       "<table border=\"1\" class=\"dataframe\">\n",
       "  <thead>\n",
       "    <tr style=\"text-align: right;\">\n",
       "      <th></th>\n",
       "      <th>timestamp</th>\n",
       "      <th>company</th>\n",
       "      <th>level</th>\n",
       "      <th>title</th>\n",
       "      <th>totalyearlycompensation</th>\n",
       "      <th>location</th>\n",
       "      <th>yearsofexperience</th>\n",
       "      <th>yearsatcompany</th>\n",
       "      <th>tag</th>\n",
       "      <th>basesalary</th>\n",
       "      <th>...</th>\n",
       "      <th>doctorate_degree</th>\n",
       "      <th>highschool</th>\n",
       "      <th>some_college</th>\n",
       "      <th>race_asian</th>\n",
       "      <th>race_white</th>\n",
       "      <th>race_two_or_more</th>\n",
       "      <th>race_black</th>\n",
       "      <th>race_hispanic</th>\n",
       "      <th>race</th>\n",
       "      <th>education</th>\n",
       "    </tr>\n",
       "  </thead>\n",
       "  <tbody>\n",
       "    <tr>\n",
       "      <th>0</th>\n",
       "      <td>6/7/2017 11:33:27</td>\n",
       "      <td>Oracle</td>\n",
       "      <td>L3</td>\n",
       "      <td>Product Manager</td>\n",
       "      <td>127000</td>\n",
       "      <td>Redwood City, CA</td>\n",
       "      <td>1.5</td>\n",
       "      <td>1.5</td>\n",
       "      <td>NaN</td>\n",
       "      <td>107000.0</td>\n",
       "      <td>...</td>\n",
       "      <td>0</td>\n",
       "      <td>0</td>\n",
       "      <td>0</td>\n",
       "      <td>0</td>\n",
       "      <td>0</td>\n",
       "      <td>0</td>\n",
       "      <td>0</td>\n",
       "      <td>0</td>\n",
       "      <td>NaN</td>\n",
       "      <td>NaN</td>\n",
       "    </tr>\n",
       "    <tr>\n",
       "      <th>1</th>\n",
       "      <td>6/10/2017 17:11:29</td>\n",
       "      <td>eBay</td>\n",
       "      <td>SE 2</td>\n",
       "      <td>Software Engineer</td>\n",
       "      <td>100000</td>\n",
       "      <td>San Francisco, CA</td>\n",
       "      <td>5.0</td>\n",
       "      <td>3.0</td>\n",
       "      <td>NaN</td>\n",
       "      <td>0.0</td>\n",
       "      <td>...</td>\n",
       "      <td>0</td>\n",
       "      <td>0</td>\n",
       "      <td>0</td>\n",
       "      <td>0</td>\n",
       "      <td>0</td>\n",
       "      <td>0</td>\n",
       "      <td>0</td>\n",
       "      <td>0</td>\n",
       "      <td>NaN</td>\n",
       "      <td>NaN</td>\n",
       "    </tr>\n",
       "    <tr>\n",
       "      <th>2</th>\n",
       "      <td>6/11/2017 14:53:57</td>\n",
       "      <td>Amazon</td>\n",
       "      <td>L7</td>\n",
       "      <td>Product Manager</td>\n",
       "      <td>310000</td>\n",
       "      <td>Seattle, WA</td>\n",
       "      <td>8.0</td>\n",
       "      <td>0.0</td>\n",
       "      <td>NaN</td>\n",
       "      <td>155000.0</td>\n",
       "      <td>...</td>\n",
       "      <td>0</td>\n",
       "      <td>0</td>\n",
       "      <td>0</td>\n",
       "      <td>0</td>\n",
       "      <td>0</td>\n",
       "      <td>0</td>\n",
       "      <td>0</td>\n",
       "      <td>0</td>\n",
       "      <td>NaN</td>\n",
       "      <td>NaN</td>\n",
       "    </tr>\n",
       "    <tr>\n",
       "      <th>3</th>\n",
       "      <td>6/17/2017 0:23:14</td>\n",
       "      <td>Apple</td>\n",
       "      <td>M1</td>\n",
       "      <td>Software Engineering Manager</td>\n",
       "      <td>372000</td>\n",
       "      <td>Sunnyvale, CA</td>\n",
       "      <td>7.0</td>\n",
       "      <td>5.0</td>\n",
       "      <td>NaN</td>\n",
       "      <td>157000.0</td>\n",
       "      <td>...</td>\n",
       "      <td>0</td>\n",
       "      <td>0</td>\n",
       "      <td>0</td>\n",
       "      <td>0</td>\n",
       "      <td>0</td>\n",
       "      <td>0</td>\n",
       "      <td>0</td>\n",
       "      <td>0</td>\n",
       "      <td>NaN</td>\n",
       "      <td>NaN</td>\n",
       "    </tr>\n",
       "    <tr>\n",
       "      <th>4</th>\n",
       "      <td>6/20/2017 10:58:51</td>\n",
       "      <td>Microsoft</td>\n",
       "      <td>60</td>\n",
       "      <td>Software Engineer</td>\n",
       "      <td>157000</td>\n",
       "      <td>Mountain View, CA</td>\n",
       "      <td>5.0</td>\n",
       "      <td>3.0</td>\n",
       "      <td>NaN</td>\n",
       "      <td>0.0</td>\n",
       "      <td>...</td>\n",
       "      <td>0</td>\n",
       "      <td>0</td>\n",
       "      <td>0</td>\n",
       "      <td>0</td>\n",
       "      <td>0</td>\n",
       "      <td>0</td>\n",
       "      <td>0</td>\n",
       "      <td>0</td>\n",
       "      <td>NaN</td>\n",
       "      <td>NaN</td>\n",
       "    </tr>\n",
       "  </tbody>\n",
       "</table>\n",
       "<p>5 rows × 29 columns</p>\n",
       "</div>"
      ],
      "text/plain": [
       "            timestamp    company level                         title  \\\n",
       "0   6/7/2017 11:33:27     Oracle    L3               Product Manager   \n",
       "1  6/10/2017 17:11:29       eBay  SE 2             Software Engineer   \n",
       "2  6/11/2017 14:53:57     Amazon    L7               Product Manager   \n",
       "3   6/17/2017 0:23:14      Apple    M1  Software Engineering Manager   \n",
       "4  6/20/2017 10:58:51  Microsoft    60             Software Engineer   \n",
       "\n",
       "   totalyearlycompensation           location  yearsofexperience  \\\n",
       "0                   127000   Redwood City, CA                1.5   \n",
       "1                   100000  San Francisco, CA                5.0   \n",
       "2                   310000        Seattle, WA                8.0   \n",
       "3                   372000      Sunnyvale, CA                7.0   \n",
       "4                   157000  Mountain View, CA                5.0   \n",
       "\n",
       "   yearsatcompany  tag  basesalary  ...  doctorate_degree  highschool  \\\n",
       "0             1.5  NaN    107000.0  ...                 0           0   \n",
       "1             3.0  NaN         0.0  ...                 0           0   \n",
       "2             0.0  NaN    155000.0  ...                 0           0   \n",
       "3             5.0  NaN    157000.0  ...                 0           0   \n",
       "4             3.0  NaN         0.0  ...                 0           0   \n",
       "\n",
       "  some_college race_asian  race_white  race_two_or_more  race_black  \\\n",
       "0            0          0           0                 0           0   \n",
       "1            0          0           0                 0           0   \n",
       "2            0          0           0                 0           0   \n",
       "3            0          0           0                 0           0   \n",
       "4            0          0           0                 0           0   \n",
       "\n",
       "   race_hispanic  race  education  \n",
       "0              0   NaN        NaN  \n",
       "1              0   NaN        NaN  \n",
       "2              0   NaN        NaN  \n",
       "3              0   NaN        NaN  \n",
       "4              0   NaN        NaN  \n",
       "\n",
       "[5 rows x 29 columns]"
      ]
     },
     "execution_count": 4,
     "metadata": {},
     "output_type": "execute_result"
    }
   ],
   "source": [
    "df = pd.read_csv(filepath)\n",
    "df= df.rename(columns=str.lower)\n",
    "df.head(5)"
   ]
  },
  {
   "cell_type": "code",
   "execution_count": 5,
   "metadata": {
    "scrolled": true
   },
   "outputs": [
    {
     "name": "stdout",
     "output_type": "stream",
     "text": [
      "<class 'pandas.core.frame.DataFrame'>\n",
      "RangeIndex: 62642 entries, 0 to 62641\n",
      "Data columns (total 29 columns):\n",
      " #   Column                   Non-Null Count  Dtype  \n",
      "---  ------                   --------------  -----  \n",
      " 0   timestamp                62642 non-null  object \n",
      " 1   company                  62637 non-null  object \n",
      " 2   level                    62523 non-null  object \n",
      " 3   title                    62642 non-null  object \n",
      " 4   totalyearlycompensation  62642 non-null  int64  \n",
      " 5   location                 62642 non-null  object \n",
      " 6   yearsofexperience        62642 non-null  float64\n",
      " 7   yearsatcompany           62642 non-null  float64\n",
      " 8   tag                      61788 non-null  object \n",
      " 9   basesalary               62642 non-null  float64\n",
      " 10  stockgrantvalue          62642 non-null  float64\n",
      " 11  bonus                    62642 non-null  float64\n",
      " 12  gender                   43102 non-null  object \n",
      " 13  otherdetails             40137 non-null  object \n",
      " 14  cityid                   62642 non-null  int64  \n",
      " 15  dmaid                    62640 non-null  float64\n",
      " 16  rownumber                62642 non-null  int64  \n",
      " 17  masters_degree           62642 non-null  int64  \n",
      " 18  bachelors_degree         62642 non-null  int64  \n",
      " 19  doctorate_degree         62642 non-null  int64  \n",
      " 20  highschool               62642 non-null  int64  \n",
      " 21  some_college             62642 non-null  int64  \n",
      " 22  race_asian               62642 non-null  int64  \n",
      " 23  race_white               62642 non-null  int64  \n",
      " 24  race_two_or_more         62642 non-null  int64  \n",
      " 25  race_black               62642 non-null  int64  \n",
      " 26  race_hispanic            62642 non-null  int64  \n",
      " 27  race                     22427 non-null  object \n",
      " 28  education                30370 non-null  object \n",
      "dtypes: float64(6), int64(13), object(10)\n",
      "memory usage: 13.9+ MB\n"
     ]
    }
   ],
   "source": [
    "df.info()"
   ]
  },
  {
   "cell_type": "code",
   "execution_count": 6,
   "metadata": {},
   "outputs": [
    {
     "name": "stdout",
     "output_type": "stream",
     "text": [
      "Shape of the df (62642, 29)\n"
     ]
    }
   ],
   "source": [
    "print(\"Shape of the df\",df.shape)"
   ]
  },
  {
   "cell_type": "code",
   "execution_count": 7,
   "metadata": {
    "scrolled": true
   },
   "outputs": [
    {
     "data": {
      "text/html": [
       "<div>\n",
       "<style scoped>\n",
       "    .dataframe tbody tr th:only-of-type {\n",
       "        vertical-align: middle;\n",
       "    }\n",
       "\n",
       "    .dataframe tbody tr th {\n",
       "        vertical-align: top;\n",
       "    }\n",
       "\n",
       "    .dataframe thead th {\n",
       "        text-align: right;\n",
       "    }\n",
       "</style>\n",
       "<table border=\"1\" class=\"dataframe\">\n",
       "  <thead>\n",
       "    <tr style=\"text-align: right;\">\n",
       "      <th></th>\n",
       "      <th>totalyearlycompensation</th>\n",
       "      <th>yearsofexperience</th>\n",
       "      <th>yearsatcompany</th>\n",
       "      <th>basesalary</th>\n",
       "      <th>stockgrantvalue</th>\n",
       "      <th>bonus</th>\n",
       "      <th>cityid</th>\n",
       "      <th>dmaid</th>\n",
       "      <th>rownumber</th>\n",
       "      <th>masters_degree</th>\n",
       "      <th>bachelors_degree</th>\n",
       "      <th>doctorate_degree</th>\n",
       "      <th>highschool</th>\n",
       "      <th>some_college</th>\n",
       "      <th>race_asian</th>\n",
       "      <th>race_white</th>\n",
       "      <th>race_two_or_more</th>\n",
       "      <th>race_black</th>\n",
       "      <th>race_hispanic</th>\n",
       "    </tr>\n",
       "  </thead>\n",
       "  <tbody>\n",
       "    <tr>\n",
       "      <th>count</th>\n",
       "      <td>6.264200e+04</td>\n",
       "      <td>62642.000000</td>\n",
       "      <td>62642.000000</td>\n",
       "      <td>6.264200e+04</td>\n",
       "      <td>6.264200e+04</td>\n",
       "      <td>62642.000000</td>\n",
       "      <td>62642.000000</td>\n",
       "      <td>62640.000000</td>\n",
       "      <td>62642.000000</td>\n",
       "      <td>62642.000000</td>\n",
       "      <td>62642.000000</td>\n",
       "      <td>62642.000000</td>\n",
       "      <td>62642.000000</td>\n",
       "      <td>62642.000000</td>\n",
       "      <td>62642.000000</td>\n",
       "      <td>62642.000000</td>\n",
       "      <td>62642.000000</td>\n",
       "      <td>62642.000000</td>\n",
       "      <td>62642.000000</td>\n",
       "    </tr>\n",
       "    <tr>\n",
       "      <th>mean</th>\n",
       "      <td>2.163004e+05</td>\n",
       "      <td>7.204135</td>\n",
       "      <td>2.702093</td>\n",
       "      <td>1.366873e+05</td>\n",
       "      <td>5.148608e+04</td>\n",
       "      <td>19334.746588</td>\n",
       "      <td>9856.201989</td>\n",
       "      <td>616.097222</td>\n",
       "      <td>41694.723732</td>\n",
       "      <td>0.245698</td>\n",
       "      <td>0.201223</td>\n",
       "      <td>0.028783</td>\n",
       "      <td>0.005108</td>\n",
       "      <td>0.005667</td>\n",
       "      <td>0.187925</td>\n",
       "      <td>0.128221</td>\n",
       "      <td>0.012835</td>\n",
       "      <td>0.011015</td>\n",
       "      <td>0.018039</td>\n",
       "    </tr>\n",
       "    <tr>\n",
       "      <th>std</th>\n",
       "      <td>1.380337e+05</td>\n",
       "      <td>5.840375</td>\n",
       "      <td>3.263656</td>\n",
       "      <td>6.136928e+04</td>\n",
       "      <td>8.187457e+04</td>\n",
       "      <td>26781.292040</td>\n",
       "      <td>6679.104563</td>\n",
       "      <td>289.843390</td>\n",
       "      <td>24488.865879</td>\n",
       "      <td>0.430504</td>\n",
       "      <td>0.400917</td>\n",
       "      <td>0.167196</td>\n",
       "      <td>0.071291</td>\n",
       "      <td>0.075067</td>\n",
       "      <td>0.390655</td>\n",
       "      <td>0.334338</td>\n",
       "      <td>0.112562</td>\n",
       "      <td>0.104373</td>\n",
       "      <td>0.133094</td>\n",
       "    </tr>\n",
       "    <tr>\n",
       "      <th>min</th>\n",
       "      <td>1.000000e+04</td>\n",
       "      <td>0.000000</td>\n",
       "      <td>0.000000</td>\n",
       "      <td>0.000000e+00</td>\n",
       "      <td>0.000000e+00</td>\n",
       "      <td>0.000000</td>\n",
       "      <td>0.000000</td>\n",
       "      <td>0.000000</td>\n",
       "      <td>1.000000</td>\n",
       "      <td>0.000000</td>\n",
       "      <td>0.000000</td>\n",
       "      <td>0.000000</td>\n",
       "      <td>0.000000</td>\n",
       "      <td>0.000000</td>\n",
       "      <td>0.000000</td>\n",
       "      <td>0.000000</td>\n",
       "      <td>0.000000</td>\n",
       "      <td>0.000000</td>\n",
       "      <td>0.000000</td>\n",
       "    </tr>\n",
       "    <tr>\n",
       "      <th>25%</th>\n",
       "      <td>1.350000e+05</td>\n",
       "      <td>3.000000</td>\n",
       "      <td>0.000000</td>\n",
       "      <td>1.080000e+05</td>\n",
       "      <td>0.000000e+00</td>\n",
       "      <td>1000.000000</td>\n",
       "      <td>7369.000000</td>\n",
       "      <td>506.000000</td>\n",
       "      <td>20069.250000</td>\n",
       "      <td>0.000000</td>\n",
       "      <td>0.000000</td>\n",
       "      <td>0.000000</td>\n",
       "      <td>0.000000</td>\n",
       "      <td>0.000000</td>\n",
       "      <td>0.000000</td>\n",
       "      <td>0.000000</td>\n",
       "      <td>0.000000</td>\n",
       "      <td>0.000000</td>\n",
       "      <td>0.000000</td>\n",
       "    </tr>\n",
       "    <tr>\n",
       "      <th>50%</th>\n",
       "      <td>1.880000e+05</td>\n",
       "      <td>6.000000</td>\n",
       "      <td>2.000000</td>\n",
       "      <td>1.400000e+05</td>\n",
       "      <td>2.500000e+04</td>\n",
       "      <td>14000.000000</td>\n",
       "      <td>7839.000000</td>\n",
       "      <td>807.000000</td>\n",
       "      <td>42019.000000</td>\n",
       "      <td>0.000000</td>\n",
       "      <td>0.000000</td>\n",
       "      <td>0.000000</td>\n",
       "      <td>0.000000</td>\n",
       "      <td>0.000000</td>\n",
       "      <td>0.000000</td>\n",
       "      <td>0.000000</td>\n",
       "      <td>0.000000</td>\n",
       "      <td>0.000000</td>\n",
       "      <td>0.000000</td>\n",
       "    </tr>\n",
       "    <tr>\n",
       "      <th>75%</th>\n",
       "      <td>2.640000e+05</td>\n",
       "      <td>10.000000</td>\n",
       "      <td>4.000000</td>\n",
       "      <td>1.700000e+05</td>\n",
       "      <td>6.500000e+04</td>\n",
       "      <td>26000.000000</td>\n",
       "      <td>11521.000000</td>\n",
       "      <td>807.000000</td>\n",
       "      <td>63021.750000</td>\n",
       "      <td>0.000000</td>\n",
       "      <td>0.000000</td>\n",
       "      <td>0.000000</td>\n",
       "      <td>0.000000</td>\n",
       "      <td>0.000000</td>\n",
       "      <td>0.000000</td>\n",
       "      <td>0.000000</td>\n",
       "      <td>0.000000</td>\n",
       "      <td>0.000000</td>\n",
       "      <td>0.000000</td>\n",
       "    </tr>\n",
       "    <tr>\n",
       "      <th>max</th>\n",
       "      <td>4.980000e+06</td>\n",
       "      <td>69.000000</td>\n",
       "      <td>69.000000</td>\n",
       "      <td>1.659870e+06</td>\n",
       "      <td>2.800000e+06</td>\n",
       "      <td>1000000.000000</td>\n",
       "      <td>47926.000000</td>\n",
       "      <td>881.000000</td>\n",
       "      <td>83875.000000</td>\n",
       "      <td>1.000000</td>\n",
       "      <td>1.000000</td>\n",
       "      <td>1.000000</td>\n",
       "      <td>1.000000</td>\n",
       "      <td>1.000000</td>\n",
       "      <td>1.000000</td>\n",
       "      <td>1.000000</td>\n",
       "      <td>1.000000</td>\n",
       "      <td>1.000000</td>\n",
       "      <td>1.000000</td>\n",
       "    </tr>\n",
       "  </tbody>\n",
       "</table>\n",
       "</div>"
      ],
      "text/plain": [
       "       totalyearlycompensation  yearsofexperience  yearsatcompany  \\\n",
       "count             6.264200e+04       62642.000000    62642.000000   \n",
       "mean              2.163004e+05           7.204135        2.702093   \n",
       "std               1.380337e+05           5.840375        3.263656   \n",
       "min               1.000000e+04           0.000000        0.000000   \n",
       "25%               1.350000e+05           3.000000        0.000000   \n",
       "50%               1.880000e+05           6.000000        2.000000   \n",
       "75%               2.640000e+05          10.000000        4.000000   \n",
       "max               4.980000e+06          69.000000       69.000000   \n",
       "\n",
       "         basesalary  stockgrantvalue           bonus        cityid  \\\n",
       "count  6.264200e+04     6.264200e+04    62642.000000  62642.000000   \n",
       "mean   1.366873e+05     5.148608e+04    19334.746588   9856.201989   \n",
       "std    6.136928e+04     8.187457e+04    26781.292040   6679.104563   \n",
       "min    0.000000e+00     0.000000e+00        0.000000      0.000000   \n",
       "25%    1.080000e+05     0.000000e+00     1000.000000   7369.000000   \n",
       "50%    1.400000e+05     2.500000e+04    14000.000000   7839.000000   \n",
       "75%    1.700000e+05     6.500000e+04    26000.000000  11521.000000   \n",
       "max    1.659870e+06     2.800000e+06  1000000.000000  47926.000000   \n",
       "\n",
       "              dmaid     rownumber  masters_degree  bachelors_degree  \\\n",
       "count  62640.000000  62642.000000    62642.000000      62642.000000   \n",
       "mean     616.097222  41694.723732        0.245698          0.201223   \n",
       "std      289.843390  24488.865879        0.430504          0.400917   \n",
       "min        0.000000      1.000000        0.000000          0.000000   \n",
       "25%      506.000000  20069.250000        0.000000          0.000000   \n",
       "50%      807.000000  42019.000000        0.000000          0.000000   \n",
       "75%      807.000000  63021.750000        0.000000          0.000000   \n",
       "max      881.000000  83875.000000        1.000000          1.000000   \n",
       "\n",
       "       doctorate_degree    highschool  some_college    race_asian  \\\n",
       "count      62642.000000  62642.000000  62642.000000  62642.000000   \n",
       "mean           0.028783      0.005108      0.005667      0.187925   \n",
       "std            0.167196      0.071291      0.075067      0.390655   \n",
       "min            0.000000      0.000000      0.000000      0.000000   \n",
       "25%            0.000000      0.000000      0.000000      0.000000   \n",
       "50%            0.000000      0.000000      0.000000      0.000000   \n",
       "75%            0.000000      0.000000      0.000000      0.000000   \n",
       "max            1.000000      1.000000      1.000000      1.000000   \n",
       "\n",
       "         race_white  race_two_or_more    race_black  race_hispanic  \n",
       "count  62642.000000      62642.000000  62642.000000   62642.000000  \n",
       "mean       0.128221          0.012835      0.011015       0.018039  \n",
       "std        0.334338          0.112562      0.104373       0.133094  \n",
       "min        0.000000          0.000000      0.000000       0.000000  \n",
       "25%        0.000000          0.000000      0.000000       0.000000  \n",
       "50%        0.000000          0.000000      0.000000       0.000000  \n",
       "75%        0.000000          0.000000      0.000000       0.000000  \n",
       "max        1.000000          1.000000      1.000000       1.000000  "
      ]
     },
     "execution_count": 7,
     "metadata": {},
     "output_type": "execute_result"
    }
   ],
   "source": [
    "df.describe()"
   ]
  },
  {
   "cell_type": "code",
   "execution_count": 8,
   "metadata": {},
   "outputs": [
    {
     "data": {
      "text/plain": [
       "0"
      ]
     },
     "execution_count": 8,
     "metadata": {},
     "output_type": "execute_result"
    }
   ],
   "source": [
    "#Check duplicate values\n",
    "df.duplicated().sum()"
   ]
  },
  {
   "cell_type": "code",
   "execution_count": 9,
   "metadata": {
    "scrolled": true
   },
   "outputs": [
    {
     "data": {
      "text/plain": [
       "timestamp                      0\n",
       "company                        5\n",
       "level                        119\n",
       "title                          0\n",
       "totalyearlycompensation        0\n",
       "location                       0\n",
       "yearsofexperience              0\n",
       "yearsatcompany                 0\n",
       "tag                          854\n",
       "basesalary                     0\n",
       "stockgrantvalue                0\n",
       "bonus                          0\n",
       "gender                     19540\n",
       "otherdetails               22505\n",
       "cityid                         0\n",
       "dmaid                          2\n",
       "rownumber                      0\n",
       "masters_degree                 0\n",
       "bachelors_degree               0\n",
       "doctorate_degree               0\n",
       "highschool                     0\n",
       "some_college                   0\n",
       "race_asian                     0\n",
       "race_white                     0\n",
       "race_two_or_more               0\n",
       "race_black                     0\n",
       "race_hispanic                  0\n",
       "race                       40215\n",
       "education                  32272\n",
       "dtype: int64"
      ]
     },
     "execution_count": 9,
     "metadata": {},
     "output_type": "execute_result"
    }
   ],
   "source": [
    "#Count Nulls\n",
    "df.isna().sum()"
   ]
  },
  {
   "cell_type": "code",
   "execution_count": 10,
   "metadata": {},
   "outputs": [],
   "source": [
    "#NULL VALUES IN - \n",
    "#gender\n",
    "#otherdetails\n",
    "#race\n",
    "#education\n",
    "#level"
   ]
  },
  {
   "cell_type": "code",
   "execution_count": 11,
   "metadata": {},
   "outputs": [],
   "source": [
    "cat_cols = df.select_dtypes([\"object\"]).columns\n",
    "for col in cat_cols:\n",
    "    df[col].fillna(df[col].mode().values[0], inplace=True)"
   ]
  },
  {
   "cell_type": "code",
   "execution_count": 12,
   "metadata": {},
   "outputs": [
    {
     "data": {
      "text/plain": [
       "timestamp                  0\n",
       "company                    0\n",
       "level                      0\n",
       "title                      0\n",
       "totalyearlycompensation    0\n",
       "location                   0\n",
       "yearsofexperience          0\n",
       "yearsatcompany             0\n",
       "tag                        0\n",
       "basesalary                 0\n",
       "stockgrantvalue            0\n",
       "bonus                      0\n",
       "gender                     0\n",
       "otherdetails               0\n",
       "cityid                     0\n",
       "dmaid                      2\n",
       "rownumber                  0\n",
       "masters_degree             0\n",
       "bachelors_degree           0\n",
       "doctorate_degree           0\n",
       "highschool                 0\n",
       "some_college               0\n",
       "race_asian                 0\n",
       "race_white                 0\n",
       "race_two_or_more           0\n",
       "race_black                 0\n",
       "race_hispanic              0\n",
       "race                       0\n",
       "education                  0\n",
       "dtype: int64"
      ]
     },
     "execution_count": 12,
     "metadata": {},
     "output_type": "execute_result"
    }
   ],
   "source": [
    "#the above mentioned data fill removes all the null values\n",
    "#Count Nulls\n",
    "df.isna().sum()"
   ]
  },
  {
   "cell_type": "code",
   "execution_count": 14,
   "metadata": {},
   "outputs": [],
   "source": [
    "df['timestamp'] = pd.to_datetime(df['timestamp'])"
   ]
  },
  {
   "cell_type": "code",
   "execution_count": 15,
   "metadata": {},
   "outputs": [
    {
     "data": {
      "text/plain": [
       "0   2017-06-07 11:33:27\n",
       "1   2017-06-10 17:11:29\n",
       "2   2017-06-11 14:53:57\n",
       "3   2017-06-17 00:23:14\n",
       "4   2017-06-20 10:58:51\n",
       "5   2017-06-21 17:27:47\n",
       "6   2017-06-22 12:37:51\n",
       "7   2017-06-22 13:55:26\n",
       "8   2017-06-22 23:08:16\n",
       "9   2017-06-26 21:25:45\n",
       "Name: timestamp, dtype: datetime64[ns]"
      ]
     },
     "execution_count": 15,
     "metadata": {},
     "output_type": "execute_result"
    }
   ],
   "source": [
    "df['timestamp'] [:10]"
   ]
  },
  {
   "cell_type": "code",
   "execution_count": 16,
   "metadata": {},
   "outputs": [],
   "source": [
    "#creating new date column \n",
    "df['date'] = df['timestamp'].apply(lambda x: x.date())"
   ]
  },
  {
   "cell_type": "code",
   "execution_count": 17,
   "metadata": {},
   "outputs": [
    {
     "data": {
      "image/png": "[encoded data removed]",
      "text/plain": [
       "<Figure size 432x432 with 1 Axes>"
      ]
     },
     "metadata": {
      "needs_background": "light"
     },
     "output_type": "display_data"
    }
   ],
   "source": [
    "plt.figure(figsize=(6,6))\n",
    "sns.countplot(data = df, x = 'gender', palette=\"Paired\",edgecolor=\"black\")\n",
    "plt.title('Feature Counts : Stem')\n",
    "plt.xticks(rotation=90);"
   ]
  },
  {
   "cell_type": "code",
   "execution_count": 20,
   "metadata": {},
   "outputs": [
    {
     "data": {
      "text/plain": [
       "Text(0.5, 0, 'Location')"
      ]
     },
     "execution_count": 20,
     "metadata": {},
     "output_type": "execute_result"
    },
    {
     "data": {
      "image/png": "[encoded data removed]",
      "text/plain": [
       "<Figure size 432x288 with 1 Axes>"
      ]
     },
     "metadata": {
      "needs_background": "light"
     },
     "output_type": "display_data"
    }
   ],
   "source": [
    "plt.figure(figsize=(6,4))\n",
    "a=df[\"location\"].value_counts()[:10].plot.bar(title='Jobs Location', color='green')\n",
    "a.set_ylabel('No of Employee', size=12)\n",
    "a.set_xlabel('Location', size=12)"
   ]
  },
  {
   "cell_type": "code",
   "execution_count": 21,
   "metadata": {},
   "outputs": [
    {
     "data": {
      "text/plain": [
       "Text(0, 0.5, 'Count')"
      ]
     },
     "execution_count": 21,
     "metadata": {},
     "output_type": "execute_result"
    },
    {
     "data": {
      "image/png": "[encoded data removed]",
      "text/plain": [
       "<Figure size 432x288 with 1 Axes>"
      ]
     },
     "metadata": {
      "needs_background": "light"
     },
     "output_type": "display_data"
    }
   ],
   "source": [
    "plt.figure(figsize=(6,4))\n",
    "a = df[\"yearsofexperience\"].value_counts()[:10].plot.bar(title='Years of Experience', color='pink');\n",
    "a.set_xlabel('Years', size=12)\n",
    "a.set_ylabel('Count', size=12)"
   ]
  },
  {
   "cell_type": "code",
   "execution_count": 23,
   "metadata": {},
   "outputs": [
    {
     "data": {
      "text/html": [
       "<div>\n",
       "<style scoped>\n",
       "    .dataframe tbody tr th:only-of-type {\n",
       "        vertical-align: middle;\n",
       "    }\n",
       "\n",
       "    .dataframe tbody tr th {\n",
       "        vertical-align: top;\n",
       "    }\n",
       "\n",
       "    .dataframe thead th {\n",
       "        text-align: right;\n",
       "    }\n",
       "</style>\n",
       "<table border=\"1\" class=\"dataframe\">\n",
       "  <thead>\n",
       "    <tr style=\"text-align: right;\">\n",
       "      <th></th>\n",
       "      <th>frequency</th>\n",
       "    </tr>\n",
       "    <tr>\n",
       "      <th>title</th>\n",
       "      <th></th>\n",
       "    </tr>\n",
       "  </thead>\n",
       "  <tbody>\n",
       "    <tr>\n",
       "      <th>Business Analyst</th>\n",
       "      <td>885</td>\n",
       "    </tr>\n",
       "    <tr>\n",
       "      <th>Data Scientist</th>\n",
       "      <td>2578</td>\n",
       "    </tr>\n",
       "    <tr>\n",
       "      <th>Hardware Engineer</th>\n",
       "      <td>2200</td>\n",
       "    </tr>\n",
       "    <tr>\n",
       "      <th>Human Resources</th>\n",
       "      <td>364</td>\n",
       "    </tr>\n",
       "    <tr>\n",
       "      <th>Management Consultant</th>\n",
       "      <td>976</td>\n",
       "    </tr>\n",
       "    <tr>\n",
       "      <th>Marketing</th>\n",
       "      <td>710</td>\n",
       "    </tr>\n",
       "    <tr>\n",
       "      <th>Mechanical Engineer</th>\n",
       "      <td>490</td>\n",
       "    </tr>\n",
       "    <tr>\n",
       "      <th>Product Designer</th>\n",
       "      <td>1516</td>\n",
       "    </tr>\n",
       "    <tr>\n",
       "      <th>Product Manager</th>\n",
       "      <td>4673</td>\n",
       "    </tr>\n",
       "    <tr>\n",
       "      <th>Recruiter</th>\n",
       "      <td>451</td>\n",
       "    </tr>\n",
       "    <tr>\n",
       "      <th>Sales</th>\n",
       "      <td>461</td>\n",
       "    </tr>\n",
       "    <tr>\n",
       "      <th>Software Engineer</th>\n",
       "      <td>41231</td>\n",
       "    </tr>\n",
       "    <tr>\n",
       "      <th>Software Engineering Manager</th>\n",
       "      <td>3569</td>\n",
       "    </tr>\n",
       "    <tr>\n",
       "      <th>Solution Architect</th>\n",
       "      <td>1157</td>\n",
       "    </tr>\n",
       "    <tr>\n",
       "      <th>Technical Program Manager</th>\n",
       "      <td>1381</td>\n",
       "    </tr>\n",
       "  </tbody>\n",
       "</table>\n",
       "</div>"
      ],
      "text/plain": [
       "                              frequency\n",
       "title                                  \n",
       "Business Analyst                    885\n",
       "Data Scientist                     2578\n",
       "Hardware Engineer                  2200\n",
       "Human Resources                     364\n",
       "Management Consultant               976\n",
       "Marketing                           710\n",
       "Mechanical Engineer                 490\n",
       "Product Designer                   1516\n",
       "Product Manager                    4673\n",
       "Recruiter                           451\n",
       "Sales                               461\n",
       "Software Engineer                 41231\n",
       "Software Engineering Manager       3569\n",
       "Solution Architect                 1157\n",
       "Technical Program Manager          1381"
      ]
     },
     "execution_count": 23,
     "metadata": {},
     "output_type": "execute_result"
    }
   ],
   "source": [
    "df_title=pd.DataFrame(df['title'],columns=['title','frequency'])\n",
    "df_title['frequency']=1\n",
    "df_title=df_title.groupby('title').sum()\n",
    "df_title"
   ]
  },
  {
   "cell_type": "code",
   "execution_count": 24,
   "metadata": {},
   "outputs": [
    {
     "data": {
      "text/html": [
       "<div>\n",
       "<style scoped>\n",
       "    .dataframe tbody tr th:only-of-type {\n",
       "        vertical-align: middle;\n",
       "    }\n",
       "\n",
       "    .dataframe tbody tr th {\n",
       "        vertical-align: top;\n",
       "    }\n",
       "\n",
       "    .dataframe thead th {\n",
       "        text-align: right;\n",
       "    }\n",
       "</style>\n",
       "<table border=\"1\" class=\"dataframe\">\n",
       "  <thead>\n",
       "    <tr style=\"text-align: right;\">\n",
       "      <th></th>\n",
       "      <th>education</th>\n",
       "      <th>count</th>\n",
       "    </tr>\n",
       "  </thead>\n",
       "  <tbody>\n",
       "    <tr>\n",
       "      <th>1</th>\n",
       "      <td>Highschool</td>\n",
       "      <td>320</td>\n",
       "    </tr>\n",
       "    <tr>\n",
       "      <th>4</th>\n",
       "      <td>Some College</td>\n",
       "      <td>355</td>\n",
       "    </tr>\n",
       "    <tr>\n",
       "      <th>3</th>\n",
       "      <td>PhD</td>\n",
       "      <td>1703</td>\n",
       "    </tr>\n",
       "    <tr>\n",
       "      <th>0</th>\n",
       "      <td>Bachelor's Degree</td>\n",
       "      <td>12601</td>\n",
       "    </tr>\n",
       "    <tr>\n",
       "      <th>2</th>\n",
       "      <td>Master's Degree</td>\n",
       "      <td>47663</td>\n",
       "    </tr>\n",
       "  </tbody>\n",
       "</table>\n",
       "</div>"
      ],
      "text/plain": [
       "           education  count\n",
       "1         Highschool    320\n",
       "4       Some College    355\n",
       "3                PhD   1703\n",
       "0  Bachelor's Degree  12601\n",
       "2    Master's Degree  47663"
      ]
     },
     "execution_count": 24,
     "metadata": {},
     "output_type": "execute_result"
    }
   ],
   "source": [
    "edu_df=pd.DataFrame(df['education'],columns=['education','count'])\n",
    "edu_df['count']=1\n",
    "edu_df=edu_df.groupby('education').sum()\n",
    "edu_df.reset_index(inplace=True)\n",
    "edu_df.sort_values('count',ascending=True,inplace=True)\n",
    "edu_df"
   ]
  },
  {
   "cell_type": "code",
   "execution_count": 25,
   "metadata": {},
   "outputs": [
    {
     "data": {
      "text/html": [
       "<div>\n",
       "<style scoped>\n",
       "    .dataframe tbody tr th:only-of-type {\n",
       "        vertical-align: middle;\n",
       "    }\n",
       "\n",
       "    .dataframe tbody tr th {\n",
       "        vertical-align: top;\n",
       "    }\n",
       "\n",
       "    .dataframe thead th {\n",
       "        text-align: right;\n",
       "    }\n",
       "</style>\n",
       "<table border=\"1\" class=\"dataframe\">\n",
       "  <thead>\n",
       "    <tr style=\"text-align: right;\">\n",
       "      <th></th>\n",
       "      <th>totalyearlycompensation</th>\n",
       "      <th>yearsofexperience</th>\n",
       "      <th>bonus</th>\n",
       "      <th>basesalary</th>\n",
       "      <th>stockgrantvalue</th>\n",
       "    </tr>\n",
       "  </thead>\n",
       "  <tbody>\n",
       "    <tr>\n",
       "      <th>0</th>\n",
       "      <td>10000</td>\n",
       "      <td>0.0</td>\n",
       "      <td>12000.0</td>\n",
       "      <td>109000.0</td>\n",
       "      <td>2000.0</td>\n",
       "    </tr>\n",
       "    <tr>\n",
       "      <th>1</th>\n",
       "      <td>10000</td>\n",
       "      <td>1.0</td>\n",
       "      <td>7000.0</td>\n",
       "      <td>65000.0</td>\n",
       "      <td>0.0</td>\n",
       "    </tr>\n",
       "    <tr>\n",
       "      <th>2</th>\n",
       "      <td>10000</td>\n",
       "      <td>2.0</td>\n",
       "      <td>11000.0</td>\n",
       "      <td>111000.0</td>\n",
       "      <td>2000.0</td>\n",
       "    </tr>\n",
       "    <tr>\n",
       "      <th>3</th>\n",
       "      <td>10000</td>\n",
       "      <td>3.0</td>\n",
       "      <td>2000.0</td>\n",
       "      <td>89000.0</td>\n",
       "      <td>4000.0</td>\n",
       "    </tr>\n",
       "    <tr>\n",
       "      <th>4</th>\n",
       "      <td>10000</td>\n",
       "      <td>4.0</td>\n",
       "      <td>1000.0</td>\n",
       "      <td>47000.0</td>\n",
       "      <td>1000.0</td>\n",
       "    </tr>\n",
       "  </tbody>\n",
       "</table>\n",
       "</div>"
      ],
      "text/plain": [
       "   totalyearlycompensation  yearsofexperience    bonus  basesalary  \\\n",
       "0                    10000                0.0  12000.0    109000.0   \n",
       "1                    10000                1.0   7000.0     65000.0   \n",
       "2                    10000                2.0  11000.0    111000.0   \n",
       "3                    10000                3.0   2000.0     89000.0   \n",
       "4                    10000                4.0   1000.0     47000.0   \n",
       "\n",
       "   stockgrantvalue  \n",
       "0           2000.0  \n",
       "1              0.0  \n",
       "2           2000.0  \n",
       "3           4000.0  \n",
       "4           1000.0  "
      ]
     },
     "execution_count": 25,
     "metadata": {},
     "output_type": "execute_result"
    }
   ],
   "source": [
    "df_perks = df.groupby([\"totalyearlycompensation\",\"yearsofexperience\"])[[\"bonus\",\"basesalary\",\"stockgrantvalue\"]].sum().reset_index()\n",
    "df_perks.head()"
   ]
  },
  {
   "cell_type": "markdown",
   "metadata": {},
   "source": [
    "Correlation Matrix"
   ]
  },
  {
   "cell_type": "code",
   "execution_count": 26,
   "metadata": {
    "scrolled": true
   },
   "outputs": [
    {
     "data": {
      "text/plain": [
       "<AxesSubplot:>"
      ]
     },
     "execution_count": 26,
     "metadata": {},
     "output_type": "execute_result"
    },
    {
     "data": {
      "image/png": "[encoded data removed]",
      "text/plain": [
       "<Figure size 2160x1440 with 2 Axes>"
      ]
     },
     "metadata": {
      "needs_background": "light"
     },
     "output_type": "display_data"
    }
   ],
   "source": [
    "correlation = df.corr()\n",
    "plt.subplots(figsize=(30,20))\n",
    "sns.heatmap( correlation, square=True, annot=True, fmt=\".1f\" ,linewidths=.5,cmap=\"YlGnBu\")"
   ]
  },
  {
   "cell_type": "code",
   "execution_count": 27,
   "metadata": {},
   "outputs": [
    {
     "data": {
      "text/plain": [
       "<AxesSubplot:title={'center':'Correlation with Default'}>"
      ]
     },
     "execution_count": 27,
     "metadata": {},
     "output_type": "execute_result"
    },
    {
     "data": {
      "image/png": "[encoded data removed]",
      "text/plain": [
       "<Figure size 1440x720 with 1 Axes>"
      ]
     },
     "metadata": {
      "needs_background": "light"
     },
     "output_type": "display_data"
    }
   ],
   "source": [
    "X = df.drop(['totalyearlycompensation'],axis=1)\n",
    "X.corrwith(df['totalyearlycompensation']).plot.bar(figsize = (20, 10), title = \"Correlation with Default\", \n",
    "                                        fontsize = 20,rot = 90, grid = True , color ='khaki')"
   ]
  },
  {
   "cell_type": "code",
   "execution_count": 28,
   "metadata": {},
   "outputs": [
    {
     "data": {
      "text/plain": [
       "30"
      ]
     },
     "execution_count": 28,
     "metadata": {},
     "output_type": "execute_result"
    }
   ],
   "source": [
    "len(df.columns)"
   ]
  },
  {
   "cell_type": "markdown",
   "metadata": {},
   "source": [
    "#Models"
   ]
  },
  {
   "cell_type": "code",
   "execution_count": 29,
   "metadata": {},
   "outputs": [],
   "source": [
    "#processing categorical variables\n",
    "\n",
    "categorical_df=df[['location']]\n",
    "categorical_df.shape\n",
    "categorical_df[\"location\"] = df.groupby(['location'], sort=False).ngroup()\n"
   ]
  },
  {
   "cell_type": "code",
   "execution_count": 30,
   "metadata": {},
   "outputs": [],
   "source": [
    "#processing numerical variables\n",
    "\n",
    "numerical_df = df[[\"yearsofexperience\",\"totalyearlycompensation\"]]"
   ]
  },
  {
   "cell_type": "code",
   "execution_count": 31,
   "id": "b767bcc2",
   "metadata": {
    "scrolled": true
   },
   "outputs": [
    {
     "name": "stderr",
     "output_type": "stream",
     "text": [
      "2022-03-11 23:36:45.397687: I tensorflow/core/platform/cpu_feature_guard.cc:151] This TensorFlow binary is optimized with oneAPI Deep Neural Network Library (oneDNN) to use the following CPU instructions in performance-critical operations:  AVX2 FMA\n",
      "To enable them in other operations, rebuild TensorFlow with the appropriate compiler flags.\n"
     ]
    }
   ],
   "source": [
    "normalizer = tf.keras.layers.Normalization(axis=-1)\n",
    "first = np.array(numerical_df[:1])\n",
    "norm_num_df = normalizer(numerical_df).numpy()\n",
    "norm_num_df = pd.DataFrame(norm_num_df)"
   ]
  },
  {
   "cell_type": "code",
   "execution_count": 32,
   "metadata": {},
   "outputs": [
    {
     "data": {
      "text/html": [
       "<div>\n",
       "<style scoped>\n",
       "    .dataframe tbody tr th:only-of-type {\n",
       "        vertical-align: middle;\n",
       "    }\n",
       "\n",
       "    .dataframe tbody tr th {\n",
       "        vertical-align: top;\n",
       "    }\n",
       "\n",
       "    .dataframe thead th {\n",
       "        text-align: right;\n",
       "    }\n",
       "</style>\n",
       "<table border=\"1\" class=\"dataframe\">\n",
       "  <thead>\n",
       "    <tr style=\"text-align: right;\">\n",
       "      <th></th>\n",
       "      <th>0</th>\n",
       "      <th>1</th>\n",
       "    </tr>\n",
       "  </thead>\n",
       "  <tbody>\n",
       "    <tr>\n",
       "      <th>0</th>\n",
       "      <td>1.5</td>\n",
       "      <td>127000.0</td>\n",
       "    </tr>\n",
       "    <tr>\n",
       "      <th>1</th>\n",
       "      <td>5.0</td>\n",
       "      <td>100000.0</td>\n",
       "    </tr>\n",
       "    <tr>\n",
       "      <th>2</th>\n",
       "      <td>8.0</td>\n",
       "      <td>310000.0</td>\n",
       "    </tr>\n",
       "    <tr>\n",
       "      <th>3</th>\n",
       "      <td>7.0</td>\n",
       "      <td>372000.0</td>\n",
       "    </tr>\n",
       "    <tr>\n",
       "      <th>4</th>\n",
       "      <td>5.0</td>\n",
       "      <td>157000.0</td>\n",
       "    </tr>\n",
       "    <tr>\n",
       "      <th>...</th>\n",
       "      <td>...</td>\n",
       "      <td>...</td>\n",
       "    </tr>\n",
       "    <tr>\n",
       "      <th>62637</th>\n",
       "      <td>10.0</td>\n",
       "      <td>327000.0</td>\n",
       "    </tr>\n",
       "    <tr>\n",
       "      <th>62638</th>\n",
       "      <td>2.0</td>\n",
       "      <td>237000.0</td>\n",
       "    </tr>\n",
       "    <tr>\n",
       "      <th>62639</th>\n",
       "      <td>14.0</td>\n",
       "      <td>220000.0</td>\n",
       "    </tr>\n",
       "    <tr>\n",
       "      <th>62640</th>\n",
       "      <td>8.0</td>\n",
       "      <td>280000.0</td>\n",
       "    </tr>\n",
       "    <tr>\n",
       "      <th>62641</th>\n",
       "      <td>0.0</td>\n",
       "      <td>200000.0</td>\n",
       "    </tr>\n",
       "  </tbody>\n",
       "</table>\n",
       "<p>62642 rows × 2 columns</p>\n",
       "</div>"
      ],
      "text/plain": [
       "          0         1\n",
       "0       1.5  127000.0\n",
       "1       5.0  100000.0\n",
       "2       8.0  310000.0\n",
       "3       7.0  372000.0\n",
       "4       5.0  157000.0\n",
       "...     ...       ...\n",
       "62637  10.0  327000.0\n",
       "62638   2.0  237000.0\n",
       "62639  14.0  220000.0\n",
       "62640   8.0  280000.0\n",
       "62641   0.0  200000.0\n",
       "\n",
       "[62642 rows x 2 columns]"
      ]
     },
     "execution_count": 32,
     "metadata": {},
     "output_type": "execute_result"
    }
   ],
   "source": [
    "norm_num_df"
   ]
  },
  {
   "cell_type": "code",
   "execution_count": 33,
   "metadata": {
    "scrolled": true
   },
   "outputs": [
    {
     "name": "stdout",
     "output_type": "stream",
     "text": [
      "0    0\n",
      "1    0\n",
      "2    0\n",
      "dtype: int64\n"
     ]
    }
   ],
   "source": [
    "combined_after_manipulation = pd.concat([categorical_df,norm_num_df], axis=1,  ignore_index=True)\n",
    "print(combined_after_manipulation.isna().sum())"
   ]
  },
  {
   "cell_type": "code",
   "execution_count": 34,
   "metadata": {},
   "outputs": [
    {
     "data": {
      "text/plain": [
       "(43849, 3)"
      ]
     },
     "execution_count": 34,
     "metadata": {},
     "output_type": "execute_result"
    }
   ],
   "source": [
    "x_train = combined_after_manipulation.sample(frac=0.70, random_state=0)\n",
    "x_test = combined_after_manipulation.drop(x_train.index)\n",
    "x_train.shape"
   ]
  },
  {
   "cell_type": "code",
   "execution_count": 35,
   "metadata": {
    "scrolled": true
   },
   "outputs": [
    {
     "data": {
      "text/plain": [
       "(43849, 3)"
      ]
     },
     "execution_count": 35,
     "metadata": {},
     "output_type": "execute_result"
    }
   ],
   "source": [
    "x_train = x_train.rename(columns = {0:'location',1:\"yearsofexperience\",2:\"totalcompensation\"})\n",
    "x_train.shape"
   ]
  },
  {
   "cell_type": "code",
   "execution_count": 36,
   "metadata": {},
   "outputs": [
    {
     "data": {
      "text/plain": [
       "(18793, 3)"
      ]
     },
     "execution_count": 36,
     "metadata": {},
     "output_type": "execute_result"
    }
   ],
   "source": [
    "x_test = x_test.rename(columns = {0:'location',1:\"yearsofexperience\",2:\"totalcompensation\"})\n",
    "x_test.shape"
   ]
  },
  {
   "cell_type": "code",
   "execution_count": 37,
   "metadata": {},
   "outputs": [],
   "source": [
    "y_train = x_train.pop('totalcompensation')\n",
    "y_test = x_test.pop('totalcompensation')"
   ]
  },
  {
   "cell_type": "code",
   "execution_count": 38,
   "metadata": {},
   "outputs": [],
   "source": [
    "\n",
    "linear_model = tf.keras.Sequential([\n",
    "    normalizer,\n",
    "    layers.Dense(units=1)\n",
    "])"
   ]
  },
  {
   "cell_type": "code",
   "execution_count": 39,
   "metadata": {},
   "outputs": [],
   "source": [
    "y_train_val = linear_model.predict(x_train)\n",
    "linear_model.layers[1].kernel\n",
    "linear_model.compile(optimizer=tf.optimizers.Adam(learning_rate=0.1),loss='mean_absolute_error')\n"
   ]
  },
  {
   "cell_type": "code",
   "execution_count": 40,
   "id": "f45af53d",
   "metadata": {
    "scrolled": false
   },
   "outputs": [
    {
     "data": {
      "text/plain": [
       "<tf.Variable 'dense/kernel:0' shape=(2, 1) dtype=float32, numpy=\n",
       "array([[-0.6560147],\n",
       "       [ 1.4086789]], dtype=float32)>"
      ]
     },
     "execution_count": 40,
     "metadata": {},
     "output_type": "execute_result"
    }
   ],
   "source": [
    "linear_model.layers[1].kernel"
   ]
  },
  {
   "cell_type": "code",
   "execution_count": 41,
   "id": "39bdc7fd",
   "metadata": {},
   "outputs": [],
   "source": [
    "linear_model.compile(\n",
    "    optimizer=tf.optimizers.Adam(learning_rate=0.1),\n",
    "    loss='mean_absolute_error')"
   ]
  },
  {
   "cell_type": "code",
   "execution_count": 42,
   "id": "09c26f47",
   "metadata": {},
   "outputs": [
    {
     "name": "stdout",
     "output_type": "stream",
     "text": [
      "CPU times: user 3min 1s, sys: 26.4 s, total: 3min 28s\n",
      "Wall time: 2min 39s\n"
     ]
    }
   ],
   "source": [
    "%%time\n",
    "model = linear_model.fit(x_train, y_train, epochs=150, verbose=0, validation_split = 0.2)"
   ]
  },
  {
   "cell_type": "code",
   "execution_count": 43,
   "id": "242382ac",
   "metadata": {},
   "outputs": [
    {
     "data": {
      "image/png": "[encoded data removed]",
      "text/plain": [
       "<Figure size 432x288 with 1 Axes>"
      ]
     },
     "metadata": {
      "needs_background": "light"
     },
     "output_type": "display_data"
    }
   ],
   "source": [
    "def plot_loss(model):\n",
    "    plt.plot(model.history['loss'], label='loss')\n",
    "    plt.plot(model.history['val_loss'], label='val_loss')\n",
    "    plt.ylim([3000, 160000])\n",
    "    plt.xlabel('Model Epochs (x-axis)')\n",
    "    plt.ylabel('Error (y-axis)')\n",
    "    plt.legend()\n",
    "    plt.grid(True)\n",
    "    \n",
    "plot_loss(model)"
   ]
  },
  {
   "cell_type": "code",
   "execution_count": 44,
   "id": "cdad327d",
   "metadata": {},
   "outputs": [
    {
     "name": "stdout",
     "output_type": "stream",
     "text": [
      "predicted result array [140463.39 148223.31 264575.97 ... 218291.34  47344.61 171503.  ]\n"
     ]
    }
   ],
   "source": [
    "y_test_val = linear_model.predict(x_test)\n",
    "result = []\n",
    "for y in y_test_val:\n",
    "    result.append(y[0])\n",
    "result = np.array(result)\n",
    "print(\"predicted result array\", result)"
   ]
  },
  {
   "cell_type": "code",
   "execution_count": 45,
   "metadata": {},
   "outputs": [
    {
     "name": "stdout",
     "output_type": "stream",
     "text": [
      "The computed RMSE Value =  154048.26542897642\n"
     ]
    }
   ],
   "source": [
    "def compute_rmse(train,preds):\n",
    "    total_len = len(train)\n",
    "    difference = np.subtract(train,preds)\n",
    "    return np.sqrt((np.dot(difference,difference))/total_len)\n",
    "\n",
    "rmse = compute_rmse(y_test,result)\n",
    "print(\"The computed RMSE Value = \", rmse )"
   ]
  },
  {
   "cell_type": "markdown",
   "metadata": {},
   "source": [
    "# How much you would get if you accept an offer for a position from X company based on number of experiences and location?"
   ]
  },
  {
   "cell_type": "code",
   "execution_count": 46,
   "metadata": {},
   "outputs": [
    {
     "name": "stdout",
     "output_type": "stream",
     "text": [
      "(62642, 2)\n"
     ]
    }
   ],
   "source": [
    "#processing categorical variables\n",
    "\n",
    "categorical_df=df[['location','company']]\n",
    "print(categorical_df.shape)\n",
    "categorical_df[\"company\"] = df.groupby(['company'], sort=False).ngroup()\n",
    "categorical_df[\"location\"] = df.groupby(['location'], sort=False).ngroup()\n"
   ]
  },
  {
   "cell_type": "code",
   "execution_count": 47,
   "metadata": {},
   "outputs": [
    {
     "name": "stdout",
     "output_type": "stream",
     "text": [
      "y.shape (62642,)\n"
     ]
    }
   ],
   "source": [
    "# defining the y variable\n",
    "y = df['totalyearlycompensation']\n",
    "print(\"y.shape\", y.shape)"
   ]
  },
  {
   "cell_type": "code",
   "execution_count": 48,
   "metadata": {},
   "outputs": [
    {
     "name": "stdout",
     "output_type": "stream",
     "text": [
      "y.shape (62642,)\n"
     ]
    }
   ],
   "source": [
    "# defining the y variable\n",
    "y = df['totalyearlycompensation']\n",
    "print(\"y.shape\", y.shape)"
   ]
  },
  {
   "cell_type": "code",
   "execution_count": 49,
   "metadata": {},
   "outputs": [],
   "source": [
    "#processing numerical variables\n",
    "\n",
    "numerical_df = df[[\"yearsofexperience\",\"totalyearlycompensation\"]]"
   ]
  },
  {
   "cell_type": "code",
   "execution_count": 50,
   "id": "b767bcc2",
   "metadata": {
    "scrolled": true
   },
   "outputs": [],
   "source": [
    "normalizer = tf.keras.layers.Normalization(axis=-1)\n",
    "first = np.array(numerical_df[:1])\n",
    "norm_num_df = normalizer(numerical_df).numpy()\n",
    "norm_num_df = pd.DataFrame(norm_num_df)"
   ]
  },
  {
   "cell_type": "code",
   "execution_count": 51,
   "metadata": {},
   "outputs": [
    {
     "data": {
      "text/html": [
       "<div>\n",
       "<style scoped>\n",
       "    .dataframe tbody tr th:only-of-type {\n",
       "        vertical-align: middle;\n",
       "    }\n",
       "\n",
       "    .dataframe tbody tr th {\n",
       "        vertical-align: top;\n",
       "    }\n",
       "\n",
       "    .dataframe thead th {\n",
       "        text-align: right;\n",
       "    }\n",
       "</style>\n",
       "<table border=\"1\" class=\"dataframe\">\n",
       "  <thead>\n",
       "    <tr style=\"text-align: right;\">\n",
       "      <th></th>\n",
       "      <th>0</th>\n",
       "      <th>1</th>\n",
       "    </tr>\n",
       "  </thead>\n",
       "  <tbody>\n",
       "    <tr>\n",
       "      <th>0</th>\n",
       "      <td>1.5</td>\n",
       "      <td>127000.0</td>\n",
       "    </tr>\n",
       "    <tr>\n",
       "      <th>1</th>\n",
       "      <td>5.0</td>\n",
       "      <td>100000.0</td>\n",
       "    </tr>\n",
       "    <tr>\n",
       "      <th>2</th>\n",
       "      <td>8.0</td>\n",
       "      <td>310000.0</td>\n",
       "    </tr>\n",
       "    <tr>\n",
       "      <th>3</th>\n",
       "      <td>7.0</td>\n",
       "      <td>372000.0</td>\n",
       "    </tr>\n",
       "    <tr>\n",
       "      <th>4</th>\n",
       "      <td>5.0</td>\n",
       "      <td>157000.0</td>\n",
       "    </tr>\n",
       "    <tr>\n",
       "      <th>...</th>\n",
       "      <td>...</td>\n",
       "      <td>...</td>\n",
       "    </tr>\n",
       "    <tr>\n",
       "      <th>62637</th>\n",
       "      <td>10.0</td>\n",
       "      <td>327000.0</td>\n",
       "    </tr>\n",
       "    <tr>\n",
       "      <th>62638</th>\n",
       "      <td>2.0</td>\n",
       "      <td>237000.0</td>\n",
       "    </tr>\n",
       "    <tr>\n",
       "      <th>62639</th>\n",
       "      <td>14.0</td>\n",
       "      <td>220000.0</td>\n",
       "    </tr>\n",
       "    <tr>\n",
       "      <th>62640</th>\n",
       "      <td>8.0</td>\n",
       "      <td>280000.0</td>\n",
       "    </tr>\n",
       "    <tr>\n",
       "      <th>62641</th>\n",
       "      <td>0.0</td>\n",
       "      <td>200000.0</td>\n",
       "    </tr>\n",
       "  </tbody>\n",
       "</table>\n",
       "<p>62642 rows × 2 columns</p>\n",
       "</div>"
      ],
      "text/plain": [
       "          0         1\n",
       "0       1.5  127000.0\n",
       "1       5.0  100000.0\n",
       "2       8.0  310000.0\n",
       "3       7.0  372000.0\n",
       "4       5.0  157000.0\n",
       "...     ...       ...\n",
       "62637  10.0  327000.0\n",
       "62638   2.0  237000.0\n",
       "62639  14.0  220000.0\n",
       "62640   8.0  280000.0\n",
       "62641   0.0  200000.0\n",
       "\n",
       "[62642 rows x 2 columns]"
      ]
     },
     "execution_count": 51,
     "metadata": {},
     "output_type": "execute_result"
    }
   ],
   "source": [
    "norm_num_df"
   ]
  },
  {
   "cell_type": "code",
   "execution_count": 52,
   "metadata": {
    "scrolled": true
   },
   "outputs": [
    {
     "name": "stdout",
     "output_type": "stream",
     "text": [
      "0    0\n",
      "1    0\n",
      "2    0\n",
      "3    0\n",
      "dtype: int64\n"
     ]
    }
   ],
   "source": [
    "combined_after_manipulation = pd.concat([categorical_df,norm_num_df], axis=1,  ignore_index=True)\n",
    "print(combined_after_manipulation.isna().sum())"
   ]
  },
  {
   "cell_type": "code",
   "execution_count": 53,
   "metadata": {},
   "outputs": [
    {
     "data": {
      "text/plain": [
       "(43849, 4)"
      ]
     },
     "execution_count": 53,
     "metadata": {},
     "output_type": "execute_result"
    }
   ],
   "source": [
    "x_train = combined_after_manipulation.sample(frac=0.70, random_state=0)\n",
    "x_test = combined_after_manipulation.drop(x_train.index)\n",
    "x_train.shape"
   ]
  },
  {
   "cell_type": "code",
   "execution_count": 54,
   "metadata": {},
   "outputs": [
    {
     "data": {
      "text/html": [
       "<div>\n",
       "<style scoped>\n",
       "    .dataframe tbody tr th:only-of-type {\n",
       "        vertical-align: middle;\n",
       "    }\n",
       "\n",
       "    .dataframe tbody tr th {\n",
       "        vertical-align: top;\n",
       "    }\n",
       "\n",
       "    .dataframe thead th {\n",
       "        text-align: right;\n",
       "    }\n",
       "</style>\n",
       "<table border=\"1\" class=\"dataframe\">\n",
       "  <thead>\n",
       "    <tr style=\"text-align: right;\">\n",
       "      <th></th>\n",
       "      <th>0</th>\n",
       "      <th>1</th>\n",
       "      <th>2</th>\n",
       "      <th>3</th>\n",
       "    </tr>\n",
       "  </thead>\n",
       "  <tbody>\n",
       "    <tr>\n",
       "      <th>44732</th>\n",
       "      <td>10</td>\n",
       "      <td>309</td>\n",
       "      <td>3.0</td>\n",
       "      <td>177000.0</td>\n",
       "    </tr>\n",
       "    <tr>\n",
       "      <th>52923</th>\n",
       "      <td>19</td>\n",
       "      <td>14</td>\n",
       "      <td>7.0</td>\n",
       "      <td>90000.0</td>\n",
       "    </tr>\n",
       "    <tr>\n",
       "      <th>38583</th>\n",
       "      <td>18</td>\n",
       "      <td>299</td>\n",
       "      <td>17.0</td>\n",
       "      <td>536000.0</td>\n",
       "    </tr>\n",
       "    <tr>\n",
       "      <th>51072</th>\n",
       "      <td>524</td>\n",
       "      <td>1565</td>\n",
       "      <td>20.0</td>\n",
       "      <td>166000.0</td>\n",
       "    </tr>\n",
       "    <tr>\n",
       "      <th>3455</th>\n",
       "      <td>2</td>\n",
       "      <td>6</td>\n",
       "      <td>10.0</td>\n",
       "      <td>307000.0</td>\n",
       "    </tr>\n",
       "    <tr>\n",
       "      <th>...</th>\n",
       "      <td>...</td>\n",
       "      <td>...</td>\n",
       "      <td>...</td>\n",
       "      <td>...</td>\n",
       "    </tr>\n",
       "    <tr>\n",
       "      <th>24261</th>\n",
       "      <td>5</td>\n",
       "      <td>4</td>\n",
       "      <td>2.0</td>\n",
       "      <td>240000.0</td>\n",
       "    </tr>\n",
       "    <tr>\n",
       "      <th>1904</th>\n",
       "      <td>4</td>\n",
       "      <td>9</td>\n",
       "      <td>3.0</td>\n",
       "      <td>266000.0</td>\n",
       "    </tr>\n",
       "    <tr>\n",
       "      <th>3655</th>\n",
       "      <td>70</td>\n",
       "      <td>61</td>\n",
       "      <td>2.0</td>\n",
       "      <td>105000.0</td>\n",
       "    </tr>\n",
       "    <tr>\n",
       "      <th>58640</th>\n",
       "      <td>27</td>\n",
       "      <td>41</td>\n",
       "      <td>5.0</td>\n",
       "      <td>150000.0</td>\n",
       "    </tr>\n",
       "    <tr>\n",
       "      <th>41637</th>\n",
       "      <td>52</td>\n",
       "      <td>98</td>\n",
       "      <td>10.0</td>\n",
       "      <td>315000.0</td>\n",
       "    </tr>\n",
       "  </tbody>\n",
       "</table>\n",
       "<p>43849 rows × 4 columns</p>\n",
       "</div>"
      ],
      "text/plain": [
       "         0     1     2         3\n",
       "44732   10   309   3.0  177000.0\n",
       "52923   19    14   7.0   90000.0\n",
       "38583   18   299  17.0  536000.0\n",
       "51072  524  1565  20.0  166000.0\n",
       "3455     2     6  10.0  307000.0\n",
       "...    ...   ...   ...       ...\n",
       "24261    5     4   2.0  240000.0\n",
       "1904     4     9   3.0  266000.0\n",
       "3655    70    61   2.0  105000.0\n",
       "58640   27    41   5.0  150000.0\n",
       "41637   52    98  10.0  315000.0\n",
       "\n",
       "[43849 rows x 4 columns]"
      ]
     },
     "execution_count": 54,
     "metadata": {},
     "output_type": "execute_result"
    }
   ],
   "source": [
    "x_train"
   ]
  },
  {
   "cell_type": "code",
   "execution_count": 55,
   "metadata": {
    "scrolled": true
   },
   "outputs": [
    {
     "data": {
      "text/plain": [
       "(43849, 4)"
      ]
     },
     "execution_count": 55,
     "metadata": {},
     "output_type": "execute_result"
    }
   ],
   "source": [
    "x_train = x_train.rename(columns = {0:'location',1:\"company\",2:\"yearsofexperience\",3:\"totalcompensation\"})\n",
    "x_train.shape"
   ]
  },
  {
   "cell_type": "code",
   "execution_count": 56,
   "metadata": {},
   "outputs": [
    {
     "data": {
      "text/plain": [
       "(18793, 4)"
      ]
     },
     "execution_count": 56,
     "metadata": {},
     "output_type": "execute_result"
    }
   ],
   "source": [
    "x_test = x_test.rename(columns = {0:'location',1:\"company\",2:\"yearsofexperience\",3:\"totalcompensation\"})\n",
    "x_test.shape"
   ]
  },
  {
   "cell_type": "code",
   "execution_count": 57,
   "metadata": {},
   "outputs": [],
   "source": [
    "y_train = x_train.pop('totalcompensation')\n",
    "y_test = x_test.pop('totalcompensation')"
   ]
  },
  {
   "cell_type": "code",
   "execution_count": 58,
   "metadata": {},
   "outputs": [
    {
     "data": {
      "text/plain": [
       "(43849,)"
      ]
     },
     "execution_count": 58,
     "metadata": {},
     "output_type": "execute_result"
    }
   ],
   "source": [
    "y_train.shape"
   ]
  },
  {
   "cell_type": "code",
   "execution_count": 59,
   "metadata": {},
   "outputs": [
    {
     "data": {
      "text/plain": [
       "(18793,)"
      ]
     },
     "execution_count": 59,
     "metadata": {},
     "output_type": "execute_result"
    }
   ],
   "source": [
    "y_test.shape"
   ]
  },
  {
   "cell_type": "code",
   "execution_count": 75,
   "metadata": {},
   "outputs": [],
   "source": [
    "\n",
    "train_df = df.iloc[: , :-19]\n",
    "train_df['location'] = df.groupby(['location'], sort=False).ngroup()\n",
    "train_df['company'] = df.groupby(['company'], sort=False).ngroup()\n",
    "temp = train_df[['yearsofexperience','location','company','totalyearlycompensation']]\n"
   ]
  },
  {
   "cell_type": "code",
   "execution_count": 76,
   "metadata": {},
   "outputs": [
    {
     "data": {
      "text/html": [
       "<div>\n",
       "<style scoped>\n",
       "    .dataframe tbody tr th:only-of-type {\n",
       "        vertical-align: middle;\n",
       "    }\n",
       "\n",
       "    .dataframe tbody tr th {\n",
       "        vertical-align: top;\n",
       "    }\n",
       "\n",
       "    .dataframe thead th {\n",
       "        text-align: right;\n",
       "    }\n",
       "</style>\n",
       "<table border=\"1\" class=\"dataframe\">\n",
       "  <thead>\n",
       "    <tr style=\"text-align: right;\">\n",
       "      <th></th>\n",
       "      <th>yearsofexperience</th>\n",
       "      <th>location</th>\n",
       "      <th>company</th>\n",
       "      <th>totalyearlycompensation</th>\n",
       "    </tr>\n",
       "  </thead>\n",
       "  <tbody>\n",
       "    <tr>\n",
       "      <th>0</th>\n",
       "      <td>1.5</td>\n",
       "      <td>0</td>\n",
       "      <td>0</td>\n",
       "      <td>127000</td>\n",
       "    </tr>\n",
       "    <tr>\n",
       "      <th>1</th>\n",
       "      <td>5.0</td>\n",
       "      <td>1</td>\n",
       "      <td>1</td>\n",
       "      <td>100000</td>\n",
       "    </tr>\n",
       "    <tr>\n",
       "      <th>2</th>\n",
       "      <td>8.0</td>\n",
       "      <td>2</td>\n",
       "      <td>2</td>\n",
       "      <td>310000</td>\n",
       "    </tr>\n",
       "    <tr>\n",
       "      <th>3</th>\n",
       "      <td>7.0</td>\n",
       "      <td>3</td>\n",
       "      <td>3</td>\n",
       "      <td>372000</td>\n",
       "    </tr>\n",
       "    <tr>\n",
       "      <th>4</th>\n",
       "      <td>5.0</td>\n",
       "      <td>4</td>\n",
       "      <td>4</td>\n",
       "      <td>157000</td>\n",
       "    </tr>\n",
       "    <tr>\n",
       "      <th>...</th>\n",
       "      <td>...</td>\n",
       "      <td>...</td>\n",
       "      <td>...</td>\n",
       "      <td>...</td>\n",
       "    </tr>\n",
       "    <tr>\n",
       "      <th>62637</th>\n",
       "      <td>10.0</td>\n",
       "      <td>2</td>\n",
       "      <td>9</td>\n",
       "      <td>327000</td>\n",
       "    </tr>\n",
       "    <tr>\n",
       "      <th>62638</th>\n",
       "      <td>2.0</td>\n",
       "      <td>5</td>\n",
       "      <td>4</td>\n",
       "      <td>237000</td>\n",
       "    </tr>\n",
       "    <tr>\n",
       "      <th>62639</th>\n",
       "      <td>14.0</td>\n",
       "      <td>2</td>\n",
       "      <td>586</td>\n",
       "      <td>220000</td>\n",
       "    </tr>\n",
       "    <tr>\n",
       "      <th>62640</th>\n",
       "      <td>8.0</td>\n",
       "      <td>1</td>\n",
       "      <td>5</td>\n",
       "      <td>280000</td>\n",
       "    </tr>\n",
       "    <tr>\n",
       "      <th>62641</th>\n",
       "      <td>0.0</td>\n",
       "      <td>3</td>\n",
       "      <td>121</td>\n",
       "      <td>200000</td>\n",
       "    </tr>\n",
       "  </tbody>\n",
       "</table>\n",
       "<p>62642 rows × 4 columns</p>\n",
       "</div>"
      ],
      "text/plain": [
       "       yearsofexperience  location  company  totalyearlycompensation\n",
       "0                    1.5         0        0                   127000\n",
       "1                    5.0         1        1                   100000\n",
       "2                    8.0         2        2                   310000\n",
       "3                    7.0         3        3                   372000\n",
       "4                    5.0         4        4                   157000\n",
       "...                  ...       ...      ...                      ...\n",
       "62637               10.0         2        9                   327000\n",
       "62638                2.0         5        4                   237000\n",
       "62639               14.0         2      586                   220000\n",
       "62640                8.0         1        5                   280000\n",
       "62641                0.0         3      121                   200000\n",
       "\n",
       "[62642 rows x 4 columns]"
      ]
     },
     "execution_count": 76,
     "metadata": {},
     "output_type": "execute_result"
    }
   ],
   "source": [
    "temp"
   ]
  },
  {
   "cell_type": "code",
   "execution_count": 86,
   "metadata": {},
   "outputs": [],
   "source": [
    "x_train = temp.sample(frac=0.75, random_state=0)\n",
    "x_test = temp.drop(x_train.index)"
   ]
  },
  {
   "cell_type": "code",
   "execution_count": 89,
   "metadata": {},
   "outputs": [],
   "source": [
    "y_train = x_train.pop('totalyearlycompensation')\n",
    "y_test = x_test.pop('totalyearlycompensation')"
   ]
  },
  {
   "cell_type": "code",
   "execution_count": 90,
   "metadata": {},
   "outputs": [],
   "source": [
    "normalizer = tf.keras.layers.Normalization(axis=-1)"
   ]
  },
  {
   "cell_type": "code",
   "execution_count": 91,
   "metadata": {},
   "outputs": [],
   "source": [
    "linear_model = tf.keras.Sequential([normalizer, layers.Dense(units=1)])"
   ]
  },
  {
   "cell_type": "code",
   "execution_count": 92,
   "metadata": {},
   "outputs": [],
   "source": [
    "y_train_val = linear_model.predict(x_train)"
   ]
  },
  {
   "cell_type": "code",
   "execution_count": 93,
   "metadata": {},
   "outputs": [],
   "source": [
    "linear_model.layers[1].kernel\n",
    "\n",
    "linear_model.compile(optimizer=tf.optimizers.Adam(learning_rate=0.1),loss='mean_absolute_error')"
   ]
  },
  {
   "cell_type": "code",
   "execution_count": 95,
   "metadata": {},
   "outputs": [
    {
     "name": "stdout",
     "output_type": "stream",
     "text": [
      "CPU times: user 3min 52s, sys: 34.6 s, total: 4min 26s\n",
      "Wall time: 5min 9s\n"
     ]
    }
   ],
   "source": [
    "%%time\n",
    "model = linear_model.fit(x_train, y_train, epochs=150, verbose=0, validation_split = 0.2)"
   ]
  },
  {
   "cell_type": "code",
   "execution_count": 96,
   "metadata": {},
   "outputs": [
    {
     "data": {
      "image/png": "[encoded data removed]",
      "text/plain": [
       "<Figure size 432x288 with 1 Axes>"
      ]
     },
     "metadata": {
      "needs_background": "light"
     },
     "output_type": "display_data"
    }
   ],
   "source": [
    "def plot_loss(model):\n",
    "    plt.plot(model.history['loss'], label='loss')\n",
    "    plt.plot(model.history['val_loss'], label='val_loss')\n",
    "    plt.ylim([3000, 160000])\n",
    "    plt.xlabel('Model Epochs (x-axis)')\n",
    "    plt.ylabel('Error (y-axis)')\n",
    "    plt.legend()\n",
    "    plt.grid(True)\n",
    "    \n",
    "plot_loss(model)"
   ]
  },
  {
   "cell_type": "code",
   "execution_count": 97,
   "metadata": {},
   "outputs": [
    {
     "name": "stdout",
     "output_type": "stream",
     "text": [
      "predicted result array [154298.14  275208.7    97807.664 ...  17275.807  33362.06   50122.594]\n"
     ]
    }
   ],
   "source": [
    "y_test_val = linear_model.predict(x_test)\n",
    "result = []\n",
    "for y in y_test_val:\n",
    "    result.append(y[0])\n",
    "result = np.array(result)\n",
    "print(\"predicted result array\", result)"
   ]
  },
  {
   "cell_type": "code",
   "execution_count": 98,
   "metadata": {},
   "outputs": [
    {
     "name": "stdout",
     "output_type": "stream",
     "text": [
      "The computed RMSE Value =  147547.16731538836\n"
     ]
    }
   ],
   "source": [
    "def compute_rmse(train,preds):\n",
    "    total_len = len(train)\n",
    "    difference = np.subtract(train,preds)\n",
    "    return np.sqrt((np.dot(difference,difference))/total_len)\n",
    "\n",
    "rmse = compute_rmse(y_test,result)\n",
    "print(\"The computed RMSE Value = \", rmse )"
   ]
  },
  {
   "cell_type": "markdown",
   "metadata": {},
   "source": [
    "# How much you will be getting for a position after Y years joining to X company?"
   ]
  },
  {
   "cell_type": "code",
   "execution_count": 99,
   "metadata": {},
   "outputs": [],
   "source": [
    "#processing categorical variables\n",
    "\n",
    "categorical_df=df[['company']]\n",
    "categorical_df.shape\n",
    "categorical_df[\"company\"] = df.groupby(['company'], sort=False).ngroup()\n"
   ]
  },
  {
   "cell_type": "code",
   "execution_count": 100,
   "metadata": {},
   "outputs": [],
   "source": [
    "#processing numerical variables\n",
    "\n",
    "numerical_df = df[[\"yearsatcompany\",\"totalyearlycompensation\"]]"
   ]
  },
  {
   "cell_type": "code",
   "execution_count": 101,
   "id": "b767bcc2",
   "metadata": {
    "scrolled": true
   },
   "outputs": [],
   "source": [
    "normalizer = tf.keras.layers.Normalization(axis=-1)\n",
    "first = np.array(numerical_df[:1])\n",
    "norm_num_df = normalizer(numerical_df).numpy()\n",
    "norm_num_df = pd.DataFrame(norm_num_df)"
   ]
  },
  {
   "cell_type": "code",
   "execution_count": 103,
   "metadata": {
    "scrolled": true
   },
   "outputs": [
    {
     "name": "stdout",
     "output_type": "stream",
     "text": [
      "0    0\n",
      "1    0\n",
      "2    0\n",
      "dtype: int64\n"
     ]
    }
   ],
   "source": [
    "combined_after_manipulation = pd.concat([categorical_df,norm_num_df], axis=1,  ignore_index=True)\n",
    "print(combined_after_manipulation.isna().sum())"
   ]
  },
  {
   "cell_type": "code",
   "execution_count": 104,
   "metadata": {},
   "outputs": [
    {
     "data": {
      "text/plain": [
       "(43849, 3)"
      ]
     },
     "execution_count": 104,
     "metadata": {},
     "output_type": "execute_result"
    }
   ],
   "source": [
    "x_train = combined_after_manipulation.sample(frac=0.70, random_state=0)\n",
    "x_test = combined_after_manipulation.drop(x_train.index)\n",
    "x_train.shape"
   ]
  },
  {
   "cell_type": "code",
   "execution_count": 105,
   "metadata": {
    "scrolled": true
   },
   "outputs": [
    {
     "data": {
      "text/plain": [
       "(43849, 3)"
      ]
     },
     "execution_count": 105,
     "metadata": {},
     "output_type": "execute_result"
    }
   ],
   "source": [
    "x_train = x_train.rename(columns = {0:'company',1:\"yearsatcompany\",2:\"totalcompensation\"})\n",
    "x_train.shape"
   ]
  },
  {
   "cell_type": "code",
   "execution_count": 106,
   "metadata": {},
   "outputs": [
    {
     "data": {
      "text/plain": [
       "(18793, 3)"
      ]
     },
     "execution_count": 106,
     "metadata": {},
     "output_type": "execute_result"
    }
   ],
   "source": [
    "x_test = x_test.rename(columns = {0:'company',1:\"yearsatcompany\",2:\"totalcompensation\"})\n",
    "x_test.shape"
   ]
  },
  {
   "cell_type": "code",
   "execution_count": 107,
   "metadata": {},
   "outputs": [],
   "source": [
    "y_train = x_train.pop('totalcompensation')\n",
    "y_test = x_test.pop('totalcompensation')"
   ]
  },
  {
   "cell_type": "code",
   "execution_count": 108,
   "metadata": {},
   "outputs": [],
   "source": [
    "linear_model = tf.keras.Sequential([normalizer,layers.Dense(units=1)])\n",
    "y_train_val = linear_model.predict(x_train)\n",
    "linear_model.layers[1].kernel\n",
    "linear_model.compile(optimizer=tf.optimizers.Adam(learning_rate=0.1), loss='mean_absolute_error')"
   ]
  },
  {
   "cell_type": "code",
   "execution_count": 110,
   "id": "f45af53d",
   "metadata": {
    "scrolled": false
   },
   "outputs": [
    {
     "data": {
      "text/plain": [
       "<tf.Variable 'dense_4/kernel:0' shape=(2, 1) dtype=float32, numpy=\n",
       "array([[-0.2902316],\n",
       "       [-0.9590839]], dtype=float32)>"
      ]
     },
     "execution_count": 110,
     "metadata": {},
     "output_type": "execute_result"
    }
   ],
   "source": [
    "linear_model.layers[1].kernel"
   ]
  },
  {
   "cell_type": "code",
   "execution_count": 118,
   "id": "09c26f47",
   "metadata": {},
   "outputs": [
    {
     "name": "stdout",
     "output_type": "stream",
     "text": [
      "CPU times: user 4min 15s, sys: 38.3 s, total: 4min 54s\n",
      "Wall time: 4min 23s\n"
     ]
    }
   ],
   "source": [
    "%%time\n",
    "model = linear_model.fit(x_train, y_train, epochs=150, verbose=0, validation_split = 0.2)"
   ]
  },
  {
   "cell_type": "code",
   "execution_count": 129,
   "metadata": {},
   "outputs": [
    {
     "data": {
      "image/png": "[encoded data removed]",
      "text/plain": [
       "<Figure size 432x288 with 1 Axes>"
      ]
     },
     "metadata": {
      "needs_background": "light"
     },
     "output_type": "display_data"
    }
   ],
   "source": [
    "def plot_loss(model):\n",
    "    plt.plot(model.history['loss'], label='loss')\n",
    "    plt.plot(model.history['val_loss'], label='val_loss')\n",
    "    plt.ylim([3000, 160000])\n",
    "    plt.xlabel('Model Epochs (x-axis)')\n",
    "    plt.ylabel('Error (y-axis)')\n",
    "    plt.legend()\n",
    "    plt.grid(True)\n",
    "    \n",
    "plot_loss(model)"
   ]
  },
  {
   "cell_type": "code",
   "execution_count": 130,
   "id": "cdad327d",
   "metadata": {},
   "outputs": [
    {
     "name": "stdout",
     "output_type": "stream",
     "text": [
      "predicted result array [ 32425.395 259212.47  112628.52  ... 112698.55   86664.39   59579.906]\n"
     ]
    }
   ],
   "source": [
    "pred_vals = []\n",
    "y_test_val = linear_model.predict(x_test)\n",
    "for y in y_test_val:\n",
    "    pred_vals.append(y[0])\n",
    "pred_vals = np.array(pred_vals)\n",
    "print(\"predicted result array\", pred_vals)"
   ]
  },
  {
   "cell_type": "code",
   "execution_count": 131,
   "metadata": {},
   "outputs": [
    {
     "name": "stdout",
     "output_type": "stream",
     "text": [
      "The computed RMSE Value =  181414.61089826917\n"
     ]
    }
   ],
   "source": [
    "def compute_rmse(train,preds):\n",
    "    total_len = len(train)\n",
    "    difference = np.subtract(train,preds)\n",
    "    return np.sqrt((np.dot(difference,difference))/total_len)\n",
    "\n",
    "rmse = compute_rmse(y_test,pred_vals)\n",
    "print(\"The computed RMSE Value = \", rmse )"
   ]
  },
  {
   "cell_type": "code",
   "execution_count": null,
   "metadata": {},
   "outputs": [],
   "source": []
  }
 ],
 "metadata": {
  "kernelspec": {
   "display_name": "Python 3 (ipykernel)",
   "language": "python",
   "name": "python3"
  },
  "language_info": {
   "codemirror_mode": {
    "name": "ipython",
    "version": 3
   },
   "file_extension": ".py",
   "mimetype": "text/x-python",
   "name": "python",
   "nbconvert_exporter": "python",
   "pygments_lexer": "ipython3",
   "version": "3.9.7"
  },
  "latex_envs": {
   "LaTeX_envs_menu_present": true,
   "autoclose": false,
   "autocomplete": true,
   "bibliofile": "biblio.bib",
   "cite_by": "apalike",
   "current_citInitial": 1,
   "eqLabelWithNumbers": true,
   "eqNumInitial": 1,
   "hotkeys": {
    "equation": "Ctrl-E",
    "itemize": "Ctrl-I"
   },
   "labels_anchors": false,
   "latex_user_defs": false,
   "report_style_numbering": false,
   "user_envs_cfg": false
  },
  "toc": {
   "base_numbering": 1,
   "nav_menu": {},
   "number_sections": true,
   "sideBar": true,
   "skip_h1_title": false,
   "title_cell": "Table of Contents",
   "title_sidebar": "Contents",
   "toc_cell": false,
   "toc_position": {},
   "toc_section_display": true,
   "toc_window_display": false
  }
 },
 "nbformat": 4,
 "nbformat_minor": 4
}
